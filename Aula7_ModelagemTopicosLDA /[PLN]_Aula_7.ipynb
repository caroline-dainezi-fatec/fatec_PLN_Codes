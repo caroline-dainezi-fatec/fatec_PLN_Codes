{
  "nbformat": 4,
  "nbformat_minor": 0,
  "metadata": {
    "colab": {
      "provenance": [],
      "authorship_tag": "ABX9TyMqKaKoGQHsF3sJoGVkZZ8Z",
      "include_colab_link": true
    },
    "kernelspec": {
      "name": "python3",
      "display_name": "Python 3"
    },
    "language_info": {
      "name": "python"
    }
  },
  "cells": [
    {
      "cell_type": "markdown",
      "metadata": {
        "id": "view-in-github",
        "colab_type": "text"
      },
      "source": [
        "<a href=\"https://colab.research.google.com/github/caroline-dainezi-fatec/fatec_PLN_Codes/blob/main/Aula7_ModelagemTopicosLDA%20/%5BPLN%5D_Aula_7.ipynb\" target=\"_parent\"><img src=\"https://colab.research.google.com/assets/colab-badge.svg\" alt=\"Open In Colab\"/></a>"
      ]
    },
    {
      "cell_type": "markdown",
      "source": [
        "# Aula 7 - Modelagem de Tópicos com Latent Allocation (LDA)"
      ],
      "metadata": {
        "id": "2hjOizzYohgV"
      }
    },
    {
      "cell_type": "markdown",
      "source": [
        "## Exemplo 01 - Implementação do LDA em um Corpus de Notícias\n",
        "\n",
        "### Explicação do código\n",
        "\n",
        "O código abaixo utiliza as bibliotecas `nltk` e `gensim` para realizar análise de tópicos no corpus **Reuters**, fornecido pela própria `nltk`.\n",
        "\n",
        "1. O corpus **Reuters** é carregado com `nltk.corpus.reuters`. Também foi baixado o `punkt` para tokenização, `stopwords` para remover palavras comuns irrelevantes e `wordnet` para lematização.\n",
        "\n",
        "2. Foi criada uma função de pré-processamento chamada preprocess(), que recebe um texto e:\n",
        "  - Converte para minúsculas.\n",
        "  - Remove stopwords e caracteres não alfabéticos.\n",
        "  - Aplica lematização para normalizar palavras.\n",
        "\n",
        "  Cada documento do corpus Reuters é processado com essa função.\n",
        "\n",
        "3. Foi criado um dicionário com `gensim.corpora.Dictionary`. Ele então mapeia cada palavra única do corpus para um ID numérico.\n",
        "  \n",
        "4. `dictionary.filter_extremes` remove palavras que aparecem em menos de 10 documentos e estão presentes em mais de 50% dos documentos.\n",
        "\n",
        "5. O `dictionary.doc2bow` representa cada documento como um vetor de frequências das palavras.\n",
        "\n",
        "6. Treinamento do Modelo LDA\n",
        "    - `num_topics=5`: O modelo identifica 5 tópicos ocultos no corpus.\n",
        "    - `passes=10`: Realiza 10 iterações para refinar os tópicos.\n",
        "    - `random_state=42`: Garante reprodutibilidade.\n",
        "\n",
        "7. Cada tópico é exibido como uma lista de palavras mais representativas e seus pesos.\n",
        "\n",
        "8. A biblioteca `pyLDAvis` é importada e a função `pyLDAvis.display` é utilizado para gerar um gráfico interativo."
      ],
      "metadata": {
        "id": "26SHwQhjO-yY"
      }
    },
    {
      "cell_type": "code",
      "source": [
        "pip install nltk"
      ],
      "metadata": {
        "colab": {
          "base_uri": "https://localhost:8080/"
        },
        "id": "A9MauHlozopp",
        "outputId": "6ffa13e9-eb2c-4c7d-d938-81ce74f7e11d"
      },
      "execution_count": null,
      "outputs": [
        {
          "output_type": "stream",
          "name": "stderr",
          "text": [
            "/usr/local/lib/python3.10/dist-packages/ipykernel/ipkernel.py:283: DeprecationWarning: `should_run_async` will not call `transform_cell` automatically in the future. Please pass the result to `transformed_cell` argument and any exception that happen during thetransform in `preprocessing_exc_tuple` in IPython 7.17 and above.\n",
            "  and should_run_async(code)\n"
          ]
        },
        {
          "output_type": "stream",
          "name": "stdout",
          "text": [
            "Requirement already satisfied: nltk in /usr/local/lib/python3.10/dist-packages (3.9.1)\n",
            "Requirement already satisfied: click in /usr/local/lib/python3.10/dist-packages (from nltk) (8.1.7)\n",
            "Requirement already satisfied: joblib in /usr/local/lib/python3.10/dist-packages (from nltk) (1.4.2)\n",
            "Requirement already satisfied: regex>=2021.8.3 in /usr/local/lib/python3.10/dist-packages (from nltk) (2024.9.11)\n",
            "Requirement already satisfied: tqdm in /usr/local/lib/python3.10/dist-packages (from nltk) (4.66.6)\n"
          ]
        }
      ]
    },
    {
      "cell_type": "code",
      "execution_count": null,
      "metadata": {
        "colab": {
          "base_uri": "https://localhost:8080/"
        },
        "id": "cPjDHepzgMZK",
        "outputId": "120cc652-8660-408e-8dfd-a242815efae2"
      },
      "outputs": [
        {
          "output_type": "stream",
          "name": "stderr",
          "text": [
            "[nltk_data] Downloading package reuters to /root/nltk_data...\n",
            "[nltk_data] Downloading package punkt to /root/nltk_data...\n",
            "[nltk_data]   Unzipping tokenizers/punkt.zip.\n",
            "[nltk_data] Downloading package stopwords to /root/nltk_data...\n",
            "[nltk_data]   Unzipping corpora/stopwords.zip.\n",
            "[nltk_data] Downloading package wordnet to /root/nltk_data...\n",
            "[nltk_data] Downloading package punkt_tab to /root/nltk_data...\n",
            "[nltk_data]   Unzipping tokenizers/punkt_tab.zip.\n"
          ]
        },
        {
          "output_type": "stream",
          "name": "stdout",
          "text": [
            "Tópico 0: 0.135*\"v\" + 0.101*\"mln\" + 0.081*\"ct\" + 0.064*\"net\" + 0.055*\"loss\"\n",
            "Tópico 1: 0.022*\"tonne\" + 0.014*\"trade\" + 0.012*\"export\" + 0.010*\"year\" + 0.009*\"would\"\n",
            "Tópico 2: 0.027*\"company\" + 0.026*\"share\" + 0.021*\"dlrs\" + 0.014*\"inc\" + 0.013*\"corp\"\n",
            "Tópico 3: 0.013*\"market\" + 0.012*\"bank\" + 0.012*\"would\" + 0.011*\"rate\" + 0.010*\"dollar\"\n",
            "Tópico 4: 0.045*\"pct\" + 0.034*\"mln\" + 0.032*\"billion\" + 0.025*\"year\" + 0.022*\"dlrs\"\n"
          ]
        }
      ],
      "source": [
        "# escolha do corpus para implementação\n",
        "import nltk\n",
        "\n",
        "nltk.download('reuters') # corpus já categorizado\n",
        "nltk.download('punkt')\n",
        "nltk.download('stopwords')\n",
        "from nltk.corpus import reuters\n",
        "\n",
        "# etapas de pré-processamento\n",
        "from nltk.corpus import stopwords\n",
        "from nltk.tokenize import word_tokenize\n",
        "from nltk.stem import WordNetLemmatizer\n",
        "nltk.download('wordnet')\n",
        "nltk.download('punkt_tab')\n",
        "\n",
        "stop_words = set(stopwords.words('english'))\n",
        "lemmatizer = WordNetLemmatizer()\n",
        "\n",
        "def preprocess(text):\n",
        "  tokens = word_tokenize(text.lower())\n",
        "  tokens = [word for word in tokens if word.isalpha() and word not in stop_words]\n",
        "  tokens = [lemmatizer.lemmatize(word) for word in tokens]\n",
        "  return tokens\n",
        "\n",
        "documents = [preprocess(reuters.raw(fileid)) for fileid in reuters.fileids()]\n",
        "\n",
        "# Criação do dicionário e Corpus\n",
        "from gensim.corpora import Dictionary\n",
        "\n",
        "dictionary = Dictionary(documents)\n",
        "\n",
        "dictionary.filter_extremes(no_below=10, no_above=0.5)\n",
        "\n",
        "corpus = [dictionary.doc2bow(doc) for doc in documents]\n",
        "\n",
        "# Treinamento no modelo LDA\n",
        "from gensim.models import LdaModel\n",
        "\n",
        "lda_model = LdaModel(corpus=corpus, id2word=dictionary, num_topics=5, passes=10, random_state=42)\n",
        "\n",
        "topics = lda_model.print_topics(num_words=5)\n",
        "for idx, topic in topics:\n",
        "  print(f\"Tópico {idx}: {topic}\")"
      ]
    },
    {
      "cell_type": "markdown",
      "source": [
        "## Visualização das ferramentas pyLDAvis"
      ],
      "metadata": {
        "id": "JX7rvb61vCmz"
      }
    },
    {
      "cell_type": "code",
      "source": [
        "pip install --upgrade pyLDAvis"
      ],
      "metadata": {
        "colab": {
          "base_uri": "https://localhost:8080/"
        },
        "id": "CCD4czy3uehV",
        "outputId": "bfb44f2d-db0e-422f-e77b-4f68ee2d10d4"
      },
      "execution_count": null,
      "outputs": [
        {
          "output_type": "stream",
          "name": "stdout",
          "text": [
            "Collecting pyLDAvis\n",
            "  Downloading pyLDAvis-3.4.1-py3-none-any.whl.metadata (4.2 kB)\n",
            "Requirement already satisfied: numpy>=1.24.2 in /usr/local/lib/python3.10/dist-packages (from pyLDAvis) (1.26.4)\n",
            "Requirement already satisfied: scipy in /usr/local/lib/python3.10/dist-packages (from pyLDAvis) (1.13.1)\n",
            "Requirement already satisfied: pandas>=2.0.0 in /usr/local/lib/python3.10/dist-packages (from pyLDAvis) (2.2.2)\n",
            "Requirement already satisfied: joblib>=1.2.0 in /usr/local/lib/python3.10/dist-packages (from pyLDAvis) (1.4.2)\n",
            "Requirement already satisfied: jinja2 in /usr/local/lib/python3.10/dist-packages (from pyLDAvis) (3.1.4)\n",
            "Requirement already satisfied: numexpr in /usr/local/lib/python3.10/dist-packages (from pyLDAvis) (2.10.1)\n",
            "Collecting funcy (from pyLDAvis)\n",
            "  Downloading funcy-2.0-py2.py3-none-any.whl.metadata (5.9 kB)\n",
            "Requirement already satisfied: scikit-learn>=1.0.0 in /usr/local/lib/python3.10/dist-packages (from pyLDAvis) (1.5.2)\n",
            "Requirement already satisfied: gensim in /usr/local/lib/python3.10/dist-packages (from pyLDAvis) (4.3.3)\n",
            "Requirement already satisfied: setuptools in /usr/local/lib/python3.10/dist-packages (from pyLDAvis) (75.1.0)\n",
            "Requirement already satisfied: python-dateutil>=2.8.2 in /usr/local/lib/python3.10/dist-packages (from pandas>=2.0.0->pyLDAvis) (2.8.2)\n",
            "Requirement already satisfied: pytz>=2020.1 in /usr/local/lib/python3.10/dist-packages (from pandas>=2.0.0->pyLDAvis) (2024.2)\n",
            "Requirement already satisfied: tzdata>=2022.7 in /usr/local/lib/python3.10/dist-packages (from pandas>=2.0.0->pyLDAvis) (2024.2)\n",
            "Requirement already satisfied: threadpoolctl>=3.1.0 in /usr/local/lib/python3.10/dist-packages (from scikit-learn>=1.0.0->pyLDAvis) (3.5.0)\n",
            "Requirement already satisfied: smart-open>=1.8.1 in /usr/local/lib/python3.10/dist-packages (from gensim->pyLDAvis) (7.0.5)\n",
            "Requirement already satisfied: MarkupSafe>=2.0 in /usr/local/lib/python3.10/dist-packages (from jinja2->pyLDAvis) (3.0.2)\n",
            "Requirement already satisfied: six>=1.5 in /usr/local/lib/python3.10/dist-packages (from python-dateutil>=2.8.2->pandas>=2.0.0->pyLDAvis) (1.16.0)\n",
            "Requirement already satisfied: wrapt in /usr/local/lib/python3.10/dist-packages (from smart-open>=1.8.1->gensim->pyLDAvis) (1.16.0)\n",
            "Downloading pyLDAvis-3.4.1-py3-none-any.whl (2.6 MB)\n",
            "\u001b[2K   \u001b[90m━━━━━━━━━━━━━━━━━━━━━━━━━━━━━━━━━━━━━━━━\u001b[0m \u001b[32m2.6/2.6 MB\u001b[0m \u001b[31m20.6 MB/s\u001b[0m eta \u001b[36m0:00:00\u001b[0m\n",
            "\u001b[?25hDownloading funcy-2.0-py2.py3-none-any.whl (30 kB)\n",
            "Installing collected packages: funcy, pyLDAvis\n",
            "Successfully installed funcy-2.0 pyLDAvis-3.4.1\n"
          ]
        }
      ]
    },
    {
      "cell_type": "code",
      "source": [
        "import pyLDAvis.gensim_models as gensimvis\n",
        "import pyLDAvis\n",
        "\n",
        "pyLDAvis.enable_notebook()\n",
        "\n",
        "# Visualizar os tópicos\n",
        "lda_vis = gensimvis.prepare(lda_model, corpus, dictionary)\n",
        "pyLDAvis.display(lda_vis)"
      ],
      "metadata": {
        "colab": {
          "base_uri": "https://localhost:8080/",
          "height": 916
        },
        "id": "uggY5L1SuhXE",
        "outputId": "f4688631-8595-4e79-e705-3e45e4973be4"
      },
      "execution_count": null,
      "outputs": [
        {
          "output_type": "stream",
          "name": "stderr",
          "text": [
            "/usr/local/lib/python3.10/dist-packages/ipykernel/ipkernel.py:283: DeprecationWarning: `should_run_async` will not call `transform_cell` automatically in the future. Please pass the result to `transformed_cell` argument and any exception that happen during thetransform in `preprocessing_exc_tuple` in IPython 7.17 and above.\n",
            "  and should_run_async(code)\n"
          ]
        },
        {
          "output_type": "execute_result",
          "data": {
            "text/plain": [
              "<IPython.core.display.HTML object>"
            ],
            "text/html": [
              "\n",
              "<link rel=\"stylesheet\" type=\"text/css\" href=\"https://cdn.jsdelivr.net/gh/bmabey/pyLDAvis@3.4.0/pyLDAvis/js/ldavis.v1.0.0.css\">\n",
              "\n",
              "\n",
              "<div id=\"ldavis_el3541386476425017761854196956\" style=\"background-color:white;\"></div>\n",
              "<script type=\"text/javascript\">\n",
              "\n",
              "var ldavis_el3541386476425017761854196956_data = {\"mdsDat\": {\"x\": [-0.21174660304027823, 0.01468240986975512, -0.012789858736027462, -0.16510312693086737, 0.3749571788374177], \"y\": [0.028610899923170573, -0.21460581271165083, 0.1698483773570303, -0.009864210892721666, 0.026010746324171694], \"topics\": [1, 2, 3, 4, 5], \"cluster\": [1, 1, 1, 1, 1], \"Freq\": [24.43313346532143, 24.383294842023883, 20.6561619911197, 16.64281298498784, 13.884596716547144]}, \"tinfo\": {\"Term\": [\"v\", \"ct\", \"mln\", \"net\", \"loss\", \"pct\", \"shr\", \"dlrs\", \"billion\", \"share\", \"company\", \"profit\", \"qtr\", \"tonne\", \"rev\", \"inc\", \"year\", \"corp\", \"note\", \"bank\", \"trade\", \"rate\", \"oper\", \"dollar\", \"january\", \"export\", \"rose\", \"shrs\", \"avg\", \"february\", \"baker\", \"cocoa\", \"buffer\", \"paris\", \"delegate\", \"prime\", \"stability\", \"sumita\", \"lawson\", \"iranian\", \"ico\", \"tin\", \"attack\", \"icco\", \"missile\", \"volcker\", \"fundamental\", \"kuwait\", \"miyazawa\", \"remark\", \"miti\", \"inra\", \"stabilize\", \"cooperate\", \"push\", \"stabilise\", \"foster\", \"arab\", \"kuwaiti\", \"stimulate\", \"coffee\", \"tokyo\", \"opec\", \"dealer\", \"saudi\", \"dollar\", \"nation\", \"accord\", \"iran\", \"policy\", \"think\", \"monetary\", \"currency\", \"yen\", \"pact\", \"economic\", \"japan\", \"japanese\", \"economy\", \"market\", \"rate\", \"gulf\", \"exchange\", \"meeting\", \"minister\", \"bank\", \"could\", \"would\", \"foreign\", \"cut\", \"say\", \"country\", \"told\", \"price\", \"major\", \"official\", \"international\", \"government\", \"trade\", \"new\", \"agreement\", \"also\", \"analyst\", \"one\", \"last\", \"shareholder\", \"stake\", \"merger\", \"acquire\", \"takeover\", \"venture\", \"usair\", \"gencorp\", \"payout\", \"ounce\", \"bp\", \"undisclosed\", \"filing\", \"twa\", \"airline\", \"partnership\", \"warrant\", \"owns\", \"buyout\", \"regulatory\", \"completes\", \"cyacq\", \"intent\", \"definitive\", \"merge\", \"chrysler\", \"piedmont\", \"citicorp\", \"acquisition\", \"cpc\", \"subsidiary\", \"acquired\", \"common\", \"owned\", \"company\", \"holder\", \"share\", \"outstanding\", \"approval\", \"quarterly\", \"offer\", \"unit\", \"management\", \"division\", \"corp\", \"co\", \"ltd\", \"cash\", \"group\", \"sell\", \"inc\", \"stock\", \"bid\", \"board\", \"buy\", \"gold\", \"dlrs\", \"split\", \"dividend\", \"pct\", \"security\", \"sale\", \"business\", \"mln\", \"new\", \"would\", \"also\", \"per\", \"plan\", \"agreement\", \"rose\", \"cyclops\", \"index\", \"dixons\", \"statistic\", \"unemployment\", \"seasonally\", \"aluminium\", \"refinery\", \"provisional\", \"gasoline\", \"gnp\", \"cubic\", \"compare\", \"gdp\", \"grew\", \"band\", \"employment\", \"smelter\", \"housing\", \"compared\", \"flat\", \"pdvsa\", \"distillate\", \"bpd\", \"drain\", \"api\", \"hernandez\", \"unadjusted\", \"eia\", \"franc\", \"barrel\", \"revised\", \"fell\", \"crude\", \"january\", \"stg\", \"reserve\", \"billion\", \"february\", \"forecast\", \"pct\", \"rise\", \"average\", \"money\", \"account\", \"december\", \"quarter\", \"figure\", \"mark\", \"year\", \"growth\", \"oil\", \"surplus\", \"bank\", \"mln\", \"dlrs\", \"increase\", \"first\", \"last\", \"month\", \"price\", \"production\", \"rate\", \"march\", \"market\", \"profit\", \"tonne\", \"wheat\", \"sugar\", \"grain\", \"corn\", \"agriculture\", \"crop\", \"soybean\", \"usda\", \"soviet\", \"farmer\", \"port\", \"gatt\", \"subsidy\", \"white\", \"beef\", \"maize\", \"feed\", \"cargo\", \"bushel\", \"acreage\", \"legislation\", \"ecus\", \"guarantee\", \"palm\", \"harvest\", \"rice\", \"rain\", \"cattle\", \"cotton\", \"ec\", \"china\", \"grower\", \"farm\", \"season\", \"strike\", \"ship\", \"agricultural\", \"tariff\", \"shipment\", \"acre\", \"program\", \"export\", \"import\", \"trade\", \"union\", \"south\", \"department\", \"state\", \"production\", \"european\", \"official\", \"house\", \"would\", \"year\", \"last\", \"country\", \"oil\", \"government\", \"price\", \"mln\", \"week\", \"v\", \"shr\", \"qtr\", \"rev\", \"ct\", \"oper\", \"shrs\", \"avg\", \"mths\", \"div\", \"qtly\", \"excludes\", \"discontinued\", \"restated\", \"writedown\", \"debit\", \"loss\", \"yr\", \"carryforwards\", \"carryforward\", \"alcan\", \"net\", \"jan\", \"nonrecurring\", \"extinguishment\", \"lifo\", \"dec\", \"nil\", \"writedowns\", \"marketable\", \"note\", \"includes\", \"prior\", \"extraordinary\", \"profit\", \"nine\", \"mln\", \"gain\", \"feb\", \"pretax\", \"dlrs\", \"pay\", \"sale\", \"inc\", \"year\", \"record\", \"corp\", \"april\", \"share\", \"billion\"], \"Freq\": [13911.0, 8329.0, 18796.0, 6778.0, 5683.0, 9245.0, 3900.0, 11923.0, 5821.0, 5556.0, 5531.0, 3556.0, 2477.0, 2656.0, 2286.0, 3784.0, 7753.0, 3223.0, 1611.0, 4682.0, 3237.0, 2941.0, 1188.0, 1898.0, 1795.0, 2249.0, 1344.0, 1027.0, 1026.0, 1815.0, 515.0635445429816, 437.94286617759064, 433.39987352668464, 520.7031143668606, 341.6256237034161, 297.1103045396281, 222.61352455639127, 218.80620120081642, 164.90161368904722, 157.730953987798, 156.89142525013764, 148.0973011928603, 147.42603612093993, 141.6560998533344, 141.58395828042924, 131.3527189293691, 128.12050697186146, 120.41091719256181, 116.9103718491863, 114.57783994227935, 125.35042005579021, 105.00712811690242, 103.99167205305048, 102.81557387588572, 106.19182685806302, 97.6480034251788, 88.66499329718246, 87.02438044819324, 83.84446665706425, 83.93531471983552, 571.2349333354765, 215.076819798516, 428.01749951620394, 843.0087974498271, 343.02521022039946, 1767.0807633791349, 610.0637532821255, 393.8784607937266, 235.74369085136246, 772.7132403369711, 292.5508476511585, 368.7796359504738, 1118.7718915854173, 862.4808112006122, 455.0292498026253, 823.7613879015088, 1462.8405175979099, 742.3613552263525, 620.1443301216697, 2351.171108149985, 1961.5976033448947, 436.08215468475186, 1121.844177266028, 816.1058121905845, 677.1094551752253, 2228.5835324300588, 942.3743029766581, 2144.4621423501367, 892.3055038449983, 755.8511661582319, 873.5637274543891, 851.2791503178594, 844.3939830224452, 1431.069339414861, 667.621464563899, 901.2148038761784, 786.7199693771147, 848.4557230618042, 1075.1170709554704, 968.1483721001428, 811.8843143064265, 850.5906841179474, 695.6662089063597, 759.4828148357619, 743.6733570524601, 1068.2074866085345, 964.8240475455842, 808.8128459463114, 558.6520646690096, 415.3888232977714, 331.74078468040875, 314.85795165464333, 296.50524746187233, 297.5331298376329, 289.8424492301305, 258.2353760887228, 208.18642778905422, 205.5260275818544, 197.53921700554582, 182.1279570431584, 177.53897206891207, 173.41441570474754, 165.18989642955367, 157.49798667467118, 144.8499025504198, 143.28584927860555, 140.75111625910478, 139.60825082287226, 135.67025171662107, 135.41493574415415, 135.13347149964386, 134.36498124321758, 135.60549561020267, 1063.9342559390434, 125.9376316392405, 747.6952679058231, 390.71699888516173, 1049.4275433930798, 370.45997770695135, 4950.495330273613, 263.2260506289998, 4721.625650814849, 569.0124533860944, 435.7520764273287, 375.059216081565, 1570.3677695995063, 1181.9025687146923, 536.3173431860333, 338.903310113661, 2378.8310754464096, 1403.6777355619038, 1132.613884838983, 829.4451247691138, 1689.2070330965228, 745.1952871900265, 2451.950762882473, 2009.8143899075606, 572.5461365430241, 851.5087614743451, 833.1197921810945, 557.4526269366929, 3740.9837161402597, 515.3100168293023, 759.2200899187247, 2142.5476832564586, 641.9647666678006, 1153.374583299173, 679.5790297383634, 2332.3949379794562, 978.7775807373029, 1217.8660343261115, 954.0387310231115, 867.4818783613705, 706.462142815443, 779.0991640358533, 1342.8680976742382, 370.94780170546437, 281.2093202063556, 270.0265987007406, 251.5179472270778, 215.58058720487637, 184.8196127511938, 166.59256556639738, 218.2931977869473, 152.05761208180775, 155.38024366053048, 143.2955465189785, 120.61943280059509, 115.12221306819173, 113.5798506612015, 112.37265093415273, 109.27799405562595, 87.91657063381686, 87.78802337547714, 84.87834674927598, 795.698700621106, 77.21105991049446, 76.8634198519742, 66.7749208391935, 446.04236180035514, 59.454878022308286, 59.34024099415306, 58.51157218229147, 53.45827835637136, 52.24913404500056, 507.2091059046979, 716.9291698476815, 384.86305132043947, 818.8367087390901, 671.680819702478, 1655.964364504771, 1217.9893666306666, 1111.455336798148, 4844.844283065507, 1581.259006064665, 649.7717532772117, 6811.4175552109145, 1296.3995631405405, 494.749170736742, 812.9156319223827, 499.83157547944614, 764.686024868589, 1255.3055926819186, 720.4601433896923, 740.3566673882129, 3823.4666487093414, 733.4505718403341, 1745.0925046180491, 618.6424558635701, 2055.7502538090716, 5209.027957228148, 3429.6357262771176, 840.1481425492892, 943.2755810388107, 1273.3173027396874, 941.9470339102484, 1236.7711498793533, 786.9248785553505, 979.5439208822289, 803.4039179787911, 794.6852028518089, 735.5668491634524, 2655.2152593998953, 899.8713849656136, 877.8845870344581, 726.4242240296074, 677.9611184147483, 650.8470333722819, 542.0192013715705, 516.3100851248239, 502.31420497141465, 485.6997548528325, 317.40687097662607, 290.7008188854889, 280.79823259894965, 254.84376882895899, 255.56633076554587, 230.0157410281481, 210.37371279832564, 184.47552350116698, 185.3300235493885, 179.26366692851803, 175.9545443599287, 167.57395023768947, 156.51753648270713, 156.60187648645967, 154.824168184273, 149.7939703138062, 148.2652378329335, 141.49841890917494, 140.36291936536983, 139.33218155042243, 916.1487618911675, 537.4977396502479, 160.21864431274318, 407.5715121248531, 261.7463405967103, 317.22419405640846, 254.62822210962545, 248.47480067617522, 272.03303888129545, 386.38675450144535, 227.99367473855463, 598.7700855153538, 1482.7846319451498, 925.1705178715546, 1722.1730269662369, 514.4616321808227, 474.8593180501564, 643.4569502820407, 688.2760973467404, 663.4163183525426, 442.7278273976122, 778.4325067040893, 428.9587373852236, 1133.1663043474496, 1203.030517406599, 787.6933001241206, 561.3661471465023, 658.3637196852961, 547.7925836791167, 640.4234062735786, 892.4235359282349, 516.6149195270963, 13910.66553027868, 3899.6586381806146, 2476.648390921235, 2285.7697849261613, 8326.481304223618, 1187.3565589530754, 1027.0472405196547, 1025.7872512859806, 744.389560050664, 808.208435881245, 623.3122423047156, 352.847809971671, 316.7331675604702, 107.79941787081613, 67.37526579298218, 64.20171098231212, 5607.257994254952, 55.56722773150055, 50.88268964907307, 46.83188803277646, 47.94065690294292, 6533.186217318985, 489.3278356673714, 16.757637262111444, 15.721322977371868, 13.011202632578469, 171.71512115570556, 414.0162959606345, 33.155162657132266, 12.8568715390424, 1486.6284092170483, 744.2309606765986, 810.132685619454, 312.4178671502456, 2747.5248274822006, 815.0702277501372, 10362.716557738408, 771.507420859683, 374.98993845673465, 207.7896112208469, 4287.415251961, 541.3202423610522, 1233.2627027026474, 1331.966549364186, 1996.589430018764, 661.7754619586974, 826.7435053974827, 646.338105262167, 824.7772368751972, 746.6587179629497], \"Total\": [13911.0, 8329.0, 18796.0, 6778.0, 5683.0, 9245.0, 3900.0, 11923.0, 5821.0, 5556.0, 5531.0, 3556.0, 2477.0, 2656.0, 2286.0, 3784.0, 7753.0, 3223.0, 1611.0, 4682.0, 3237.0, 2941.0, 1188.0, 1898.0, 1795.0, 2249.0, 1344.0, 1027.0, 1026.0, 1815.0, 515.8544675557363, 438.73489699242907, 434.1885258088486, 521.7029279671805, 342.4135270807555, 298.15127446130043, 223.40471019422316, 219.59174479836622, 165.69303163230495, 158.5192335225048, 157.67871217224513, 148.89666966666195, 148.22994806456495, 142.4424212594276, 142.37183680027283, 132.13964513586424, 128.9103421881137, 121.20145959206839, 117.69623969560652, 115.38354542328267, 126.26991598142853, 105.79414331638783, 104.78029672292591, 103.6101400010858, 107.0137421267498, 98.43721196580297, 89.45467143766614, 87.81485689707979, 84.63159407291835, 84.7266567330931, 578.8343413347824, 217.79653119719367, 437.08387157659973, 880.6034670590774, 352.8617795799067, 1898.4743925277205, 642.7223409297568, 409.4669672025704, 242.00322461879622, 846.1427127017339, 306.6052593222482, 394.8933905067298, 1289.431167113061, 1010.1902594490532, 508.48253602281665, 972.3276464557897, 1876.8818019893151, 900.6883538307703, 744.8120888659278, 3617.875955183434, 2941.7519115962095, 518.7065141171324, 1674.3769016956585, 1133.0940910368145, 930.3497685805864, 4682.980527107176, 1503.9881356715616, 4705.356053769966, 1467.3591986841975, 1168.716841595337, 1461.7163151010793, 1472.9049065750587, 1462.293645053797, 3776.9853233464983, 1048.786892765597, 2018.1408996519983, 1520.7090673952684, 1835.306989865059, 3237.1108338174135, 2656.649654372626, 1922.4841197676387, 2534.9229052617075, 1282.7257392169272, 2591.4992004799838, 3070.1988511956533, 1069.0050537346021, 965.6191402712348, 809.6071239865938, 559.4444031156148, 416.1845829077678, 332.5524718920937, 315.64968385294344, 297.2977979187142, 298.36153991207993, 290.66052722330227, 259.03730687360985, 208.98011998280552, 206.32021436430497, 198.33080660854253, 182.92647346558255, 178.33754464818682, 174.21596821383886, 165.98599382074232, 158.29165937287442, 145.6486607553605, 144.07868476161445, 141.5448592664391, 140.401320011382, 136.4639762256095, 136.20806262218, 135.9265967069576, 135.1573447500347, 136.41110625788505, 1070.6303575166514, 126.73578895318643, 757.5713969838728, 397.97801587878206, 1110.5102754774741, 381.55560010917185, 5531.3535916320125, 268.988407352146, 5556.827034829446, 615.051550419321, 465.4267924998656, 397.54844353783756, 1854.794465937837, 1379.817818374459, 589.5729726970499, 360.6063782551244, 3223.0906077194113, 1799.3115931065176, 1439.5662856862045, 1012.9796269686808, 2313.113843969489, 906.2621254836222, 3784.5164966202724, 3143.355126342126, 688.6664944312434, 1188.9125442621582, 1188.125567847372, 705.4570303715436, 11923.42697815158, 646.8542933685724, 1276.3264924075718, 9245.38449104879, 998.6611191274715, 3305.057186007882, 1130.8259306489404, 18796.809796897076, 2656.649654372626, 4705.356053769966, 2534.9229052617075, 1999.8352069906612, 1297.8700022017008, 1922.4841197676387, 1344.3813807736487, 371.7860907758862, 282.04344316718334, 270.85804476506644, 252.32407760995753, 216.38484739203378, 185.61850312458796, 167.4106908683572, 219.3803231774983, 152.85844150620022, 156.21200480187855, 144.09946502943038, 121.43289965117286, 115.92997188472299, 114.38093978420872, 113.17787389213724, 110.09309737718866, 88.72677396224304, 88.6063095178136, 85.6912846885708, 804.0084503953309, 78.02139582619164, 77.6702277445883, 67.57433704573049, 451.7284550545306, 60.256783216333375, 60.14373668396626, 59.31850305262771, 54.256415542290625, 53.04747054574289, 518.3130865471967, 736.6221520198768, 396.6887602560367, 851.8077287304218, 709.1558900069921, 1795.2451657905963, 1339.956576127357, 1244.1880802258559, 5821.224854307917, 1815.3570755227304, 726.6249881207375, 9245.38449104879, 1558.8413313726064, 570.8692000306348, 1020.4804486839836, 594.3293234943234, 960.9054274469809, 1771.7589611246412, 952.4684272167283, 1025.4889503327354, 7753.120947165575, 1037.4676130909236, 3298.6808818955246, 867.1335434880876, 4682.980527107176, 18796.809796897076, 11923.42697815158, 1427.901059099273, 1750.1221243441637, 3070.1988511956533, 2085.6921520954793, 3776.9853233464983, 1494.52994918027, 2941.7519115962095, 1962.5991409938565, 3617.875955183434, 3556.2804022152595, 2656.102548474618, 900.653747710815, 878.6686805297685, 727.2084530491566, 678.7433578504102, 651.6316976069915, 542.8017674348127, 517.0920617936376, 503.0957156202792, 486.4841259345713, 318.1915980166015, 291.4857192841764, 281.5830230617072, 255.62959575370698, 256.36125051829964, 230.80219661132108, 211.15509133108338, 185.26245068707607, 186.12664247784514, 180.04558587302608, 176.74087899734042, 168.37253439273093, 157.30499229303138, 157.3929470094068, 155.6090987043393, 150.57833105318377, 149.04726846991696, 142.28011402546701, 141.1453107353416, 140.1148075688807, 933.3469973103371, 547.1628470711624, 161.1267382273544, 417.31865866319356, 269.21716322950635, 332.49676784929864, 263.2743724167505, 257.344835060103, 286.2519601830159, 420.36660288248237, 237.48052935059, 755.7588417316114, 2249.144096244665, 1371.8232685095904, 3237.1108338174135, 687.181840868197, 627.469988420242, 1005.5481313085652, 1365.2070665522929, 1494.52994918027, 706.7009522826322, 2018.1408996519983, 681.6370972273252, 4705.356053769966, 7753.120947165575, 3070.1988511956533, 1472.9049065750587, 3298.6808818955246, 1835.306989865059, 3776.9853233464983, 18796.809796897076, 1764.454951140933, 13911.45164759851, 3900.4443365527623, 2477.4353895779823, 2286.555937108642, 8329.411589112715, 1188.142185482648, 1027.8332146788202, 1026.5729333773825, 745.1751902338376, 809.1127817018078, 624.4266915261938, 353.6370198481847, 317.5252306306727, 108.59131798305786, 68.16525112709286, 64.98977968417867, 5683.791456470476, 56.35307732295951, 51.672006439291124, 47.61816737356383, 48.777702098516926, 6778.831386375884, 510.0778355749436, 17.55406116889139, 16.506939559781035, 13.798051775320467, 182.19849363519202, 439.49709643545253, 35.25314086664312, 13.700256966550128, 1611.0794138091208, 846.006820538545, 938.5793173666123, 364.0265079880333, 3556.2804022152595, 1022.8433463966, 18796.809796897076, 1101.135991154422, 514.4010038594228, 273.27307973606526, 11923.42697815158, 1008.3470312312123, 3305.057186007882, 3784.5164966202724, 7753.120947165575, 1498.1667952449004, 3223.0906077194113, 1989.542612576794, 5556.827034829446, 5821.224854307917], \"Category\": [\"Default\", \"Default\", \"Default\", \"Default\", \"Default\", \"Default\", \"Default\", \"Default\", \"Default\", \"Default\", \"Default\", \"Default\", \"Default\", \"Default\", \"Default\", \"Default\", \"Default\", \"Default\", \"Default\", \"Default\", \"Default\", \"Default\", \"Default\", \"Default\", \"Default\", \"Default\", \"Default\", \"Default\", \"Default\", \"Default\", \"Topic1\", \"Topic1\", \"Topic1\", \"Topic1\", \"Topic1\", \"Topic1\", \"Topic1\", \"Topic1\", \"Topic1\", \"Topic1\", \"Topic1\", \"Topic1\", \"Topic1\", \"Topic1\", \"Topic1\", \"Topic1\", \"Topic1\", \"Topic1\", \"Topic1\", \"Topic1\", \"Topic1\", \"Topic1\", \"Topic1\", \"Topic1\", \"Topic1\", \"Topic1\", \"Topic1\", \"Topic1\", \"Topic1\", \"Topic1\", \"Topic1\", \"Topic1\", \"Topic1\", \"Topic1\", \"Topic1\", \"Topic1\", \"Topic1\", \"Topic1\", \"Topic1\", \"Topic1\", \"Topic1\", \"Topic1\", \"Topic1\", \"Topic1\", \"Topic1\", \"Topic1\", \"Topic1\", \"Topic1\", \"Topic1\", \"Topic1\", \"Topic1\", \"Topic1\", \"Topic1\", \"Topic1\", \"Topic1\", \"Topic1\", \"Topic1\", \"Topic1\", \"Topic1\", \"Topic1\", \"Topic1\", \"Topic1\", \"Topic1\", \"Topic1\", \"Topic1\", \"Topic1\", \"Topic1\", \"Topic1\", \"Topic1\", \"Topic1\", \"Topic1\", \"Topic1\", \"Topic1\", \"Topic1\", \"Topic1\", \"Topic2\", \"Topic2\", \"Topic2\", \"Topic2\", \"Topic2\", \"Topic2\", \"Topic2\", \"Topic2\", \"Topic2\", \"Topic2\", \"Topic2\", \"Topic2\", \"Topic2\", \"Topic2\", \"Topic2\", \"Topic2\", \"Topic2\", \"Topic2\", \"Topic2\", \"Topic2\", \"Topic2\", \"Topic2\", \"Topic2\", \"Topic2\", \"Topic2\", \"Topic2\", \"Topic2\", \"Topic2\", \"Topic2\", \"Topic2\", \"Topic2\", \"Topic2\", \"Topic2\", \"Topic2\", \"Topic2\", \"Topic2\", \"Topic2\", \"Topic2\", \"Topic2\", \"Topic2\", \"Topic2\", \"Topic2\", \"Topic2\", \"Topic2\", \"Topic2\", \"Topic2\", \"Topic2\", \"Topic2\", \"Topic2\", \"Topic2\", \"Topic2\", \"Topic2\", \"Topic2\", \"Topic2\", \"Topic2\", \"Topic2\", \"Topic2\", \"Topic2\", \"Topic2\", \"Topic2\", \"Topic2\", \"Topic2\", \"Topic2\", \"Topic2\", \"Topic2\", \"Topic2\", \"Topic2\", \"Topic2\", \"Topic2\", \"Topic2\", \"Topic3\", \"Topic3\", \"Topic3\", \"Topic3\", \"Topic3\", \"Topic3\", \"Topic3\", \"Topic3\", \"Topic3\", \"Topic3\", \"Topic3\", \"Topic3\", \"Topic3\", \"Topic3\", \"Topic3\", \"Topic3\", \"Topic3\", \"Topic3\", \"Topic3\", \"Topic3\", \"Topic3\", \"Topic3\", \"Topic3\", \"Topic3\", \"Topic3\", \"Topic3\", \"Topic3\", \"Topic3\", \"Topic3\", \"Topic3\", \"Topic3\", \"Topic3\", \"Topic3\", \"Topic3\", \"Topic3\", \"Topic3\", \"Topic3\", \"Topic3\", \"Topic3\", \"Topic3\", \"Topic3\", \"Topic3\", \"Topic3\", \"Topic3\", \"Topic3\", \"Topic3\", \"Topic3\", \"Topic3\", \"Topic3\", \"Topic3\", \"Topic3\", \"Topic3\", \"Topic3\", \"Topic3\", \"Topic3\", \"Topic3\", \"Topic3\", \"Topic3\", \"Topic3\", \"Topic3\", \"Topic3\", \"Topic3\", \"Topic3\", \"Topic3\", \"Topic3\", \"Topic3\", \"Topic3\", \"Topic4\", \"Topic4\", \"Topic4\", \"Topic4\", \"Topic4\", \"Topic4\", \"Topic4\", \"Topic4\", \"Topic4\", \"Topic4\", \"Topic4\", \"Topic4\", \"Topic4\", \"Topic4\", \"Topic4\", \"Topic4\", \"Topic4\", \"Topic4\", \"Topic4\", \"Topic4\", \"Topic4\", \"Topic4\", \"Topic4\", \"Topic4\", \"Topic4\", \"Topic4\", \"Topic4\", \"Topic4\", \"Topic4\", \"Topic4\", \"Topic4\", \"Topic4\", \"Topic4\", \"Topic4\", \"Topic4\", \"Topic4\", \"Topic4\", \"Topic4\", \"Topic4\", \"Topic4\", \"Topic4\", \"Topic4\", \"Topic4\", \"Topic4\", \"Topic4\", \"Topic4\", \"Topic4\", \"Topic4\", \"Topic4\", \"Topic4\", \"Topic4\", \"Topic4\", \"Topic4\", \"Topic4\", \"Topic4\", \"Topic4\", \"Topic4\", \"Topic4\", \"Topic4\", \"Topic4\", \"Topic4\", \"Topic4\", \"Topic5\", \"Topic5\", \"Topic5\", \"Topic5\", \"Topic5\", \"Topic5\", \"Topic5\", \"Topic5\", \"Topic5\", \"Topic5\", \"Topic5\", \"Topic5\", \"Topic5\", \"Topic5\", \"Topic5\", \"Topic5\", \"Topic5\", \"Topic5\", \"Topic5\", \"Topic5\", \"Topic5\", \"Topic5\", \"Topic5\", \"Topic5\", \"Topic5\", \"Topic5\", \"Topic5\", \"Topic5\", \"Topic5\", \"Topic5\", \"Topic5\", \"Topic5\", \"Topic5\", \"Topic5\", \"Topic5\", \"Topic5\", \"Topic5\", \"Topic5\", \"Topic5\", \"Topic5\", \"Topic5\", \"Topic5\", \"Topic5\", \"Topic5\", \"Topic5\", \"Topic5\", \"Topic5\", \"Topic5\", \"Topic5\", \"Topic5\"], \"logprob\": [30.0, 29.0, 28.0, 27.0, 26.0, 25.0, 24.0, 23.0, 22.0, 21.0, 20.0, 19.0, 18.0, 17.0, 16.0, 15.0, 14.0, 13.0, 12.0, 11.0, 10.0, 9.0, 8.0, 7.0, 6.0, 5.0, 4.0, 3.0, 2.0, 1.0, -5.8611, -6.0233, -6.0338, -5.8503, -6.2717, -6.4113, -6.7, -6.7173, -7.0001, -7.0445, -7.0499, -7.1076, -7.1121, -7.152, -7.1525, -7.2276, -7.2525, -7.3145, -7.344, -7.3642, -7.2743, -7.4514, -7.4611, -7.4725, -7.4402, -7.5241, -7.6206, -7.6392, -7.6765, -7.6754, -5.7576, -6.7344, -6.0463, -5.3685, -6.2676, -4.6284, -5.6919, -6.1294, -6.6427, -5.4555, -6.4268, -6.1952, -5.0855, -5.3456, -5.9851, -5.3916, -4.8173, -5.4956, -5.6755, -4.3428, -4.5239, -6.0276, -5.0827, -5.4009, -5.5876, -4.3963, -5.257, -4.4348, -5.3116, -5.4776, -5.3329, -5.3587, -5.3668, -4.8393, -5.6017, -5.3017, -5.4376, -5.362, -5.1253, -5.2301, -5.4061, -5.3595, -5.5606, -5.4728, -5.4938, -5.1297, -5.2314, -5.4078, -5.7779, -6.0742, -6.299, -6.3513, -6.4113, -6.4079, -6.4341, -6.5495, -6.765, -6.7778, -6.8175, -6.8987, -6.9242, -6.9477, -6.9963, -7.044, -7.1277, -7.1386, -7.1564, -7.1646, -7.1932, -7.1951, -7.1971, -7.2028, -7.1936, -5.1337, -7.2676, -5.4864, -6.1354, -5.1474, -6.1887, -3.5962, -6.5304, -3.6435, -5.7595, -6.0263, -6.1763, -4.7443, -5.0285, -5.8187, -6.2777, -4.329, -4.8565, -5.0711, -5.3826, -4.6714, -5.4897, -4.2988, -4.4976, -5.7533, -5.3564, -5.3782, -5.78, -3.8763, -5.8586, -5.4711, -4.4336, -5.6389, -5.0529, -5.5819, -4.3487, -5.2171, -4.9985, -5.2427, -5.3378, -5.5431, -5.4453, -4.7349, -6.0214, -6.2984, -6.339, -6.41, -6.5642, -6.7181, -6.822, -6.5517, -6.9133, -6.8916, -6.9726, -7.1449, -7.1915, -7.205, -7.2157, -7.2436, -7.4611, -7.4626, -7.4963, -5.2583, -7.591, -7.5955, -7.7362, -5.8371, -7.8523, -7.8542, -7.8683, -7.9586, -7.9815, -5.7086, -5.3625, -5.9846, -5.2296, -5.4277, -4.5254, -4.8326, -4.9241, -3.4518, -4.5715, -5.4609, -3.1112, -4.7702, -5.7335, -5.2369, -5.7232, -5.298, -4.8024, -5.3576, -5.3304, -3.6886, -5.3398, -4.4729, -5.51, -4.3091, -3.3794, -3.7973, -5.2039, -5.0882, -4.7881, -5.0896, -4.8173, -5.2694, -5.0504, -5.2487, -5.2596, -5.3369, -3.8372, -4.9192, -4.944, -5.1333, -5.2024, -5.2432, -5.4262, -5.4748, -5.5023, -5.5359, -5.9613, -6.0492, -6.0838, -6.1808, -6.178, -6.2833, -6.3726, -6.504, -6.4993, -6.5326, -6.5513, -6.6001, -6.6683, -6.6678, -6.6792, -6.7122, -6.7225, -6.7692, -6.7772, -6.7846, -4.9013, -5.4346, -6.6449, -5.7113, -6.1541, -5.9619, -6.1817, -6.2061, -6.1156, -5.7646, -6.2922, -5.3266, -4.4198, -4.8915, -4.2701, -5.4784, -5.5585, -5.2546, -5.1873, -5.2241, -5.6285, -5.0642, -5.6601, -4.6887, -4.6289, -5.0524, -5.3911, -5.2317, -5.4156, -5.2593, -4.9275, -5.4742, -1.9999, -3.2716, -3.7256, -3.8058, -2.5131, -4.4608, -4.6058, -4.6071, -4.9277, -4.8455, -5.1052, -5.6742, -5.7822, -6.86, -7.33, -7.3782, -2.9085, -7.5227, -7.6108, -7.6937, -7.6703, -2.7556, -5.3472, -8.7214, -8.7853, -8.9745, -6.3944, -5.5144, -8.0391, -8.9864, -4.236, -4.9279, -4.8431, -5.7959, -3.6218, -4.837, -2.2943, -4.8919, -5.6134, -6.2038, -3.1768, -5.2463, -4.4229, -4.3459, -3.9411, -5.0454, -4.8228, -5.069, -4.8252, -4.9247], \"loglift\": [30.0, 29.0, 28.0, 27.0, 26.0, 25.0, 24.0, 23.0, 22.0, 21.0, 20.0, 19.0, 18.0, 17.0, 16.0, 15.0, 14.0, 13.0, 12.0, 11.0, 10.0, 9.0, 8.0, 7.0, 6.0, 5.0, 4.0, 3.0, 2.0, 1.0, 1.4077, 1.4074, 1.4074, 1.4073, 1.4069, 1.4057, 1.4057, 1.4056, 1.4044, 1.4042, 1.4042, 1.4038, 1.4038, 1.4037, 1.4037, 1.4033, 1.4031, 1.4027, 1.4025, 1.4022, 1.4019, 1.4018, 1.4017, 1.4015, 1.4015, 1.4012, 1.4004, 1.4002, 1.3999, 1.3998, 1.396, 1.3967, 1.3883, 1.3656, 1.381, 1.3375, 1.3571, 1.3704, 1.383, 1.3185, 1.3623, 1.3408, 1.2673, 1.2511, 1.2982, 1.2434, 1.16, 1.2159, 1.2261, 0.9783, 1.004, 1.2357, 1.0088, 1.0811, 1.0915, 0.6667, 0.9418, 0.6234, 0.9118, 0.9734, 0.8944, 0.861, 0.8601, 0.4387, 0.9576, 0.603, 0.7502, 0.6377, 0.307, 0.3998, 0.5472, 0.3172, 0.7974, 0.1819, -0.0087, 1.4105, 1.4104, 1.4103, 1.4099, 1.4094, 1.4088, 1.4088, 1.4086, 1.4085, 1.4085, 1.4082, 1.4075, 1.4074, 1.4073, 1.4069, 1.4068, 1.4067, 1.4065, 1.4062, 1.4058, 1.4058, 1.4056, 1.4056, 1.4054, 1.4054, 1.4054, 1.4054, 1.4053, 1.405, 1.405, 1.3981, 1.3929, 1.3547, 1.3818, 1.3003, 1.3896, 1.2484, 1.3335, 1.3454, 1.353, 1.2448, 1.2564, 1.3166, 1.3492, 1.1075, 1.163, 1.1715, 1.2114, 1.0969, 1.2156, 0.9772, 0.964, 1.2266, 1.0775, 1.0563, 1.1758, 0.2521, 1.1839, 0.8918, -0.0509, 0.9694, 0.3585, 0.902, -0.6755, 0.4128, 0.0597, 0.4341, 0.576, 0.8031, 0.508, 1.576, 1.5749, 1.5742, 1.5741, 1.574, 1.5734, 1.5728, 1.5723, 1.5722, 1.5719, 1.5718, 1.5716, 1.5704, 1.5702, 1.5701, 1.57, 1.5697, 1.568, 1.5679, 1.5676, 1.5668, 1.5667, 1.5667, 1.5653, 1.5645, 1.5638, 1.5637, 1.5635, 1.5623, 1.562, 1.5555, 1.5501, 1.5469, 1.5377, 1.5229, 1.4964, 1.4817, 1.4643, 1.3936, 1.4391, 1.4654, 1.2716, 1.3928, 1.434, 1.3498, 1.404, 1.3487, 1.2326, 1.298, 1.2514, 0.8702, 1.2304, 0.9404, 1.2395, 0.7539, 0.2939, 0.3311, 1.0468, 0.9591, 0.697, 0.7822, 0.4607, 0.9357, 0.4775, 0.684, 0.0615, 0.0013, 1.7929, 1.7923, 1.7923, 1.7921, 1.792, 1.792, 1.7917, 1.7917, 1.7916, 1.7916, 1.7907, 1.7905, 1.7904, 1.7901, 1.7901, 1.7898, 1.7895, 1.7889, 1.7889, 1.7888, 1.7887, 1.7884, 1.7882, 1.7882, 1.7881, 1.788, 1.7879, 1.7877, 1.7876, 1.7876, 1.7746, 1.7754, 1.7875, 1.7696, 1.765, 1.7462, 1.7598, 1.7581, 1.7422, 1.7089, 1.7524, 1.5603, 1.3766, 1.3993, 1.1621, 1.5037, 1.5145, 1.3468, 1.1083, 0.981, 1.3255, 0.8405, 1.3301, 0.3695, -0.0701, 0.4328, 0.8286, 0.1817, 0.5841, 0.0186, -1.2543, 0.5649, 1.9743, 1.9742, 1.9741, 1.974, 1.974, 1.9737, 1.9736, 1.9736, 1.9733, 1.9733, 1.9726, 1.9722, 1.9719, 1.9671, 1.9627, 1.9622, 1.9608, 1.9603, 1.959, 1.9577, 1.9571, 1.9375, 1.9329, 1.928, 1.9256, 1.9157, 1.9151, 1.9147, 1.913, 1.9109, 1.894, 1.8462, 1.8272, 1.8215, 1.7164, 1.7473, 1.3789, 1.6186, 1.6583, 1.7004, 0.9516, 1.3523, 0.9886, 0.9301, 0.6177, 1.1573, 0.6138, 0.8501, 0.0667, -0.0793]}, \"token.table\": {\"Topic\": [1, 4, 1, 3, 4, 2, 2, 5, 2, 5, 2, 4, 4, 1, 2, 3, 4, 3, 4, 4, 2, 5, 1, 2, 3, 4, 5, 3, 1, 2, 3, 4, 3, 1, 2, 4, 1, 2, 3, 4, 5, 1, 1, 1, 2, 3, 4, 5, 1, 3, 1, 2, 3, 5, 1, 3, 4, 1, 2, 3, 4, 1, 2, 3, 4, 5, 1, 2, 3, 4, 2, 1, 3, 1, 4, 1, 2, 3, 4, 5, 1, 2, 4, 2, 4, 5, 5, 1, 2, 3, 4, 4, 3, 4, 2, 2, 1, 2, 3, 5, 1, 1, 3, 1, 2, 4, 1, 2, 3, 4, 5, 3, 1, 3, 4, 2, 1, 4, 2, 4, 5, 4, 1, 2, 3, 4, 1, 3, 4, 2, 4, 1, 3, 4, 2, 5, 3, 1, 3, 4, 1, 2, 3, 4, 2, 3, 1, 3, 5, 2, 5, 1, 2, 3, 4, 5, 2, 1, 1, 2, 3, 4, 5, 5, 3, 5, 2, 5, 1, 2, 5, 3, 1, 2, 3, 4, 5, 1, 3, 3, 1, 4, 1, 3, 4, 1, 3, 4, 3, 3, 1, 2, 3, 4, 1, 2, 3, 4, 5, 1, 3, 4, 5, 1, 2, 3, 5, 3, 4, 4, 2, 3, 5, 1, 2, 3, 4, 5, 4, 1, 3, 1, 3, 4, 5, 2, 1, 2, 3, 4, 5, 3, 3, 4, 1, 3, 4, 5, 1, 1, 3, 1, 1, 2, 3, 4, 5, 3, 4, 3, 2, 3, 1, 2, 3, 5, 1, 2, 3, 4, 4, 3, 1, 2, 3, 4, 5, 4, 1, 3, 4, 1, 2, 4, 4, 3, 2, 5, 1, 3, 4, 5, 3, 1, 1, 1, 3, 4, 2, 5, 2, 3, 4, 5, 1, 2, 3, 4, 3, 1, 2, 1, 2, 3, 4, 5, 1, 4, 1, 2, 5, 1, 2, 3, 4, 5, 1, 3, 4, 1, 4, 1, 1, 1, 2, 3, 4, 1, 4, 5, 1, 3, 4, 5, 1, 2, 3, 5, 4, 1, 2, 3, 4, 1, 2, 3, 4, 5, 1, 2, 3, 4, 5, 1, 2, 3, 1, 2, 3, 4, 5, 1, 2, 4, 2, 2, 1, 3, 4, 1, 1, 1, 2, 3, 4, 5, 1, 3, 1, 3, 1, 2, 3, 4, 5, 5, 1, 3, 4, 2, 3, 5, 1, 2, 3, 4, 5, 4, 5, 1, 2, 3, 4, 5, 5, 1, 2, 3, 5, 1, 2, 3, 4, 1, 3, 4, 1, 2, 3, 4, 5, 1, 2, 3, 4, 5, 1, 3, 5, 2, 1, 2, 3, 5, 2, 3, 5, 2, 1, 2, 4, 4, 1, 2, 1, 2, 3, 4, 5, 2, 1, 2, 3, 4, 3, 1, 2, 3, 4, 5, 2, 1, 2, 3, 4, 5, 1, 3, 4, 4, 2, 5, 1, 2, 3, 4, 1, 1, 2, 3, 4, 5, 1, 2, 3, 4, 2, 3, 5, 1, 2, 3, 4, 3, 1, 2, 5, 5, 2, 3, 5, 2, 3, 4, 1, 3, 1, 2, 3, 4, 5, 3, 2, 1, 1, 2, 3, 5, 5, 5, 2, 3, 4, 1, 3, 2, 3, 1, 2, 3, 4, 5, 1, 3, 4, 1, 2, 3, 4, 3, 4, 3, 1, 2, 3, 5, 1, 2, 4, 1, 2, 3, 5, 2, 1, 4, 3, 4, 5, 5, 3, 1, 2, 3, 4, 5, 4, 4, 1, 2, 5, 1, 1, 1, 2, 1, 2, 3, 4, 3, 3, 5, 1, 1, 2, 3, 4, 5, 1, 3, 4, 2, 5, 4, 4, 1, 1, 3, 4, 2, 1, 4, 1, 4, 1, 1, 4, 1, 2, 3, 4, 4, 1, 3, 4, 2, 3, 2, 3, 1, 2, 3, 4, 5, 1, 2, 3, 4, 2, 4, 5, 2, 1, 2, 1, 2, 3, 4, 4, 4, 1, 2, 3, 4, 5, 2, 5, 1, 2, 3, 4, 5, 1, 3, 5], \"Freq\": [0.9622265812838606, 0.03663299167324342, 0.13965321366276615, 0.8412844196552177, 0.01850825723241479, 0.9992056348885789, 0.9824663282885769, 0.017588911248133093, 0.9938070525741203, 0.005604175108500678, 0.037897843771071416, 0.9600787088671426, 0.9958081061860535, 0.4223701988748508, 0.4052049075412669, 0.021846734424561247, 0.15032633925471905, 0.031086693456006596, 0.9636874971362045, 0.9990305910389086, 0.9949352685369685, 0.9840561964779277, 0.33571040690570514, 0.37634280633142503, 0.13294289909191848, 0.1412271747029876, 0.01420161533326132, 0.9975468062031944, 0.5425945537078651, 0.2525871198295234, 0.1605955144595118, 0.044436622932971716, 0.9809832786084413, 0.002148565609274178, 0.9367746056435414, 0.06015983705967697, 0.08092312222027644, 0.3498291494739901, 0.08243100648525054, 0.16184624444055287, 0.32469774505775517, 0.9907207399081135, 0.9917024320616423, 0.02627572130217403, 0.021020577041739225, 0.867098802971743, 0.08583402292043517, 0.999441897054993, 0.9983435879507161, 0.9900711542936829, 0.47597891708017054, 0.07623350085133283, 0.4390366323538944, 0.008755107940909373, 0.025793413825392682, 0.9733619848845554, 0.9965243111933115, 0.03484996031325895, 0.8320428024790575, 0.004356245039157369, 0.12923526949500194, 0.01047889430947815, 0.020270648008498714, 0.8322990644167482, 0.008761042783334191, 0.12832350900295372, 0.13373565681290356, 0.7166212553748039, 0.03112087611369454, 0.11859577113597107, 0.995995530967607, 0.011068596507599731, 0.9873188084778961, 0.9972626503507099, 0.9941926603312371, 0.09462110577761207, 0.6013303918577216, 0.24495370374204248, 0.04686839818891065, 0.013264640996861506, 0.1767489949572206, 0.7011043466636417, 0.12204097270855707, 0.9918400035858379, 0.9939469037702152, 0.9870182451854076, 0.9869947678520931, 0.0059231201104753385, 0.8183777619306759, 0.08884680165713008, 0.08588524160189241, 0.9918855913145485, 0.016448485214547993, 0.9814262844680303, 0.9931831096385408, 0.9969862698928058, 0.006113449189202667, 0.7802984237855041, 0.006113449189202667, 0.20785727243289068, 0.9983249634404128, 0.9864653135183435, 0.012093270043132058, 0.03872093842761766, 0.9446108002458354, 0.016208764923188786, 0.002169450895013101, 0.8948984941929041, 0.06869927834208153, 0.002350238469597526, 0.03181861312685881, 0.9919781582829355, 0.0012437680219757642, 0.9900393454927082, 0.00870637615383035, 0.9925132245383889, 0.9941111941256, 0.9989048027626164, 0.7381114245755965, 0.005274440612772233, 0.2565860227507433, 0.9920436134608209, 0.6263347280857223, 0.13829896331404484, 0.011968179517561572, 0.2227411187990626, 0.577769818133628, 0.04073582736547318, 0.38087998586717425, 0.9941943080225096, 0.998522909314386, 0.050764578715753246, 0.9476054693607272, 0.0014101271865487014, 0.00024011299941212877, 0.9995904165526921, 0.9964350711181533, 0.8678245326622254, 0.10935054433009274, 0.023266073261721858, 0.6468632718324099, 0.06588422213107878, 0.14545867223744666, 0.14118047599516884, 0.996150624831853, 0.9978856369418079, 0.9572980706234777, 0.04201664129664137, 0.9847702255802595, 0.0548851958129937, 0.9440253679834916, 0.0020813702814789776, 0.09990577351099093, 0.796124132665709, 0.050993571896234956, 0.050993571896234956, 0.9966000094791138, 0.9987923167513824, 0.0009944824806134888, 0.11038755534809724, 0.2466316551921452, 0.6394522350344732, 0.0019889649612269775, 0.9983458617457596, 0.9915006632570911, 0.9986246890087841, 0.5946754255396487, 0.40506876812121, 0.03882349521309681, 0.9400832055171299, 0.02218485440748389, 0.9968321237576285, 0.002264449646018267, 0.3137520787316421, 0.287668973549728, 0.03673440536874078, 0.359544282684456, 0.9307473447915886, 0.06900277428845393, 0.9791428757187173, 0.018214019061495425, 0.9814142035488124, 0.8474509626498273, 0.12238672882928332, 0.03085379718385294, 0.8324247273483837, 0.16648494546967674, 0.9980611404089247, 0.9802540906292666, 0.9918088539705916, 0.33111601059002954, 0.021225385294232662, 0.021225385294232662, 0.6268563790230046, 0.6701000227987732, 0.2657705081510286, 0.053154101630205716, 0.011347504842403468, 0.9981986618695685, 0.1133764619286806, 0.2267529238573612, 0.6593619334911112, 0.9692893066007107, 0.01648231617296738, 0.030217579650440196, 0.0961468443423097, 0.8570804409943037, 0.021566253540711327, 0.9776701605122469, 0.9962550927679136, 0.04860021619792967, 0.2216169858625593, 0.729003242968945, 0.07326382329586743, 0.021483376755931052, 0.8709030423365897, 0.01156797209934749, 0.022585088384440337, 0.9931856094832273, 0.03756716324668062, 0.9614845843447322, 0.011548939246357841, 0.7559305688525132, 0.1301880424134884, 0.10184064608151915, 0.9984479738677493, 0.057138869687436096, 0.31426378328089855, 0.5388195411525224, 0.04342554096245143, 0.0468538731436976, 0.9869087727106677, 0.8945467202842667, 0.10459315498708349, 0.6078947818638201, 0.252835161515109, 0.13152880369923461, 0.007496460314464148, 0.9949172979973108, 0.019293358125715424, 0.9781732569737721, 0.9929381756912469, 0.03632612167917999, 0.06175440685460599, 0.19888551619351047, 0.0018163060839589996, 0.7010941484081739, 0.9922412825863434, 0.997929480778465, 0.9966695518945079, 0.9989983177783388, 0.9923700963830377, 0.05811835198297832, 0.7895590745004616, 0.14883968190762742, 0.002835041560145284, 0.4620480413809949, 0.014711435279819414, 0.2244856050105777, 0.2985876493830014, 0.9983382301950843, 0.9895927193926632, 0.14785264499264789, 0.7301845537794803, 0.05317507407630319, 0.012969530262512973, 0.05576898012880578, 0.9930071306615508, 0.29205730971906985, 0.7065280792873868, 0.9975034014110981, 0.8405523897113505, 0.0038557449069328, 0.1561576687307784, 0.9961592677436469, 0.9946306289566152, 0.9777373032128248, 0.018588161658038494, 0.3139500488903573, 0.04547874540000504, 0.6293671540839406, 0.010269394122581783, 0.9919328471841313, 0.9968940344069144, 0.9956956004847141, 0.029887231789371978, 0.2952275335291622, 0.6742851074431483, 0.6479031078843852, 0.35196041586541643, 0.1028360503578661, 0.00827416497132256, 0.009456188538654355, 0.8794255340948549, 0.06302957717306579, 0.20589661876534823, 0.5882760536152807, 0.14286704159228245, 0.996300416859665, 0.9924935039739121, 0.9971416222343958, 0.5175217382954158, 0.33471228054938584, 0.01446693550508151, 0.05852532999782974, 0.07496502943542237, 0.9751936172410408, 0.02479305806545019, 0.9967244761978294, 0.03920970213782497, 0.9586772172698205, 0.019495944435303118, 0.0005570269838658034, 0.9224366852817704, 0.032307565064216594, 0.025066214273961152, 0.7794843545551776, 0.0431566867525423, 0.17742193442711834, 0.8238143602547501, 0.17542138668497373, 0.9900870864417625, 0.9925371360443221, 0.24232958061014773, 0.08631362750227035, 0.4146311238127931, 0.25666089989354357, 0.9958173761112484, 0.9977874396553182, 0.9421619958878629, 0.012315722794563725, 0.0007037555882607843, 0.00035187779413039215, 0.9864893958445544, 0.009030497677849709, 0.7870426053079784, 0.039595259049033334, 0.16393826553634855, 0.9945296543701508, 0.6369263428135704, 0.07055770863503624, 0.1744873064893464, 0.11823183609114182, 0.025442143203039433, 0.9091325837886091, 0.03392285760405258, 0.02713828608324206, 0.0016961428802026288, 0.029552647195508763, 0.2832977903569461, 0.4091513051378196, 0.11056766278319657, 0.16712531517460127, 0.2398855686550124, 0.038030638933111725, 0.7216069951410943, 0.6498288026242733, 0.044777654625747454, 0.21974219399672362, 0.08568563539494883, 0.9488873115110292, 0.7201520213147842, 0.24093321301340206, 0.03794918739771534, 0.9911307554125414, 0.9992501004887355, 0.7276833110120332, 0.0032245936972468236, 0.2687161414372353, 0.9973882699793045, 0.9899428460725728, 0.9940844355146164, 0.12406360575000125, 0.27712149328977553, 0.04745486120454594, 0.5513169581420511, 0.9344294153075005, 0.06584055500811656, 0.2028456304743008, 0.7966835631671814, 0.22007082854430177, 0.03739765713824736, 0.4516486285157566, 0.18986502854802506, 0.10116545713038709, 0.9984229342988877, 0.9490879049226437, 0.0015558818113485962, 0.04978821796315508, 0.00014751805185917488, 0.03599440465363867, 0.9637354327959895, 0.3643687071822782, 0.3685092606729859, 0.16411648381350546, 0.10163176749918916, 0.0015056558148028025, 0.056883197187792264, 0.9419857454298399, 0.004888334091055706, 0.07528034500225786, 0.09483368136648068, 0.02835233772812309, 0.79679845684208, 0.968436866912981, 0.0031035093348864523, 0.017379652275364133, 0.05648386989493343, 0.9229836761952309, 0.03180945440775181, 0.8464549732232263, 0.0026957164752332047, 0.118611524910261, 0.4464504932016221, 0.16748087314333882, 0.3855033115547858, 0.20856822003486855, 0.05153575204349949, 0.5289993371523919, 0.19947367555660392, 0.01121660485652636, 0.2928806614562806, 0.271657425118869, 0.15859545699411243, 0.10573030466274162, 0.17094352177224284, 0.9792170972956897, 0.018303123313938126, 0.9990386794639531, 0.997727495956839, 0.0292658395669895, 0.9251257063120569, 0.042272879374540384, 0.003251759951887722, 0.9697145052887036, 0.01572510008576276, 0.013104250071468967, 0.9940597769845138, 0.8948193256721471, 0.08653197874631752, 0.019666358805981252, 0.9960857127930766, 0.9986526279046978, 0.9981072709683612, 0.04264404879290032, 0.2895828429657417, 0.0029751661948535105, 0.12793214637870096, 0.536521637138583, 0.9987882489405757, 0.008544804175152082, 0.23179133351077102, 0.7366919143919092, 0.023038522649460675, 0.9913708538773404, 0.01400115364612178, 0.433535721828128, 0.13101079483156808, 0.2255185819428901, 0.1960161510457049, 0.9914370561794098, 0.15101666551157394, 0.5439681931182204, 0.006934438722470232, 0.274295576133267, 0.023885288932953025, 0.9135574748753799, 0.0011818337320509441, 0.08509202870766798, 0.9983336429470053, 0.23785731131210877, 0.7611433961987482, 0.3788735929564323, 0.12417310628690897, 0.3275098773494806, 0.16944730921880968, 0.9961386230416739, 0.017047040888234645, 0.07884256410808523, 0.03835584199852795, 0.0021308801110293306, 0.8630064449668788, 0.01003660047644231, 0.019404094254455134, 0.5265869716640066, 0.4436177410587501, 0.02052706528836343, 0.2069578089347327, 0.7727174714030508, 0.005292693620143578, 0.1442259011489125, 0.05821962982157936, 0.7925808696165009, 0.9943840752415011, 0.9905269911452204, 0.0016014690172129699, 0.9977151977236802, 0.9998242579484358, 0.01693232581759158, 0.7083356300359145, 0.2743036782449836, 0.9432812682218652, 0.05533916773568276, 0.9910028605597133, 0.6669495113663099, 0.33313482219112317, 0.06074090033821937, 0.26565800367704734, 0.15352095689879622, 0.07876292571329545, 0.44187336290001344, 0.9937080812102665, 0.9955464008251333, 0.9966759088405921, 0.08680359643085063, 0.002411211011968073, 0.8929518114321764, 0.01768221408776587, 0.9945546477007479, 0.9997568670419912, 0.027729547953161612, 0.9705341783606565, 0.9929735815981872, 0.1680735522769987, 0.8313867318740088, 0.0007438365439311066, 0.9989724784994762, 0.016641164404914123, 0.3488593192521088, 0.17427837631328244, 0.08713918815664122, 0.3730646492956202, 0.9720520040689943, 0.0028339708573440064, 0.025505737716096058, 0.5979272386650223, 0.15392863695609843, 0.16487467336186543, 0.08346352759397337, 0.02600131401738504, 0.9731920389364115, 0.9966678800110094, 0.15721048611281738, 0.6428607139135589, 0.1532051234093061, 0.04706301176625743, 0.12689485389078886, 0.822057966509893, 0.05075794155631554, 0.0016196293214795435, 0.8497655173362672, 0.00017995881349772705, 0.14846602113562482, 0.999059823214969, 0.03038655045139141, 0.9685712956381012, 0.0785029062102383, 0.9182461150652116, 0.9998860805296981, 0.9991893483622432, 0.9931572647465731, 0.015937017203287492, 0.060560665372492474, 0.16415127719386116, 0.7570083171561559, 0.0015937017203287492, 0.9990048474168787, 0.9978880708594721, 0.004637829617512679, 0.7961607510063432, 0.19788073034720763, 0.9955584686210448, 0.9981884437715243, 0.9925530204882959, 0.9993588152456663, 0.3493975468531821, 0.07837638891675153, 0.06812153429212983, 0.5039528558385519, 0.998715629467361, 0.9089846803246215, 0.09030143375967094, 0.9914235169766911, 0.2080579424575071, 0.6394441350758245, 0.042311477594569484, 0.05758178529787276, 0.052491682730105, 0.0180452881957621, 0.02706793229364315, 0.9533927263427643, 0.9873656832583972, 0.011880068381451303, 0.9975370780059694, 0.9992389844493316, 0.9973052502546962, 0.1522256877170539, 0.713846217400427, 0.13377408920589584, 0.9971537078584425, 0.04890796203124361, 0.9502118337498758, 0.9556261384676745, 0.0423997945395214, 0.9939779064993909, 0.9871598910146935, 0.009182882707113428, 0.5771754550495565, 0.15797100724697577, 0.02256728674956797, 0.24208543967718366, 0.9995848998845127, 0.3320862507300343, 0.13561475727486982, 0.531955836053134, 0.9983320462705753, 0.9768430050210136, 0.9953099845914235, 0.9982214679231373, 0.05966397474677142, 0.14115623293748358, 0.046567004680406955, 0.7479825126790368, 0.005820875585050869, 0.010146267002475133, 0.8566348283518291, 0.0927658697369155, 0.03986033465258088, 0.9979417566809726, 0.99782205336627, 0.9999675341143434, 0.9983386925709787, 0.9913754487936419, 0.9930203400623625, 0.2680714515800749, 0.058374967257394744, 0.38085415531038125, 0.29300833079682603, 0.9992741409087825, 0.9985908536583853, 0.45565095935348215, 0.25885394985659577, 0.04462999135458547, 0.2407894295464064, 0.9829054964541938, 0.02836626681812088, 0.9360868049979891, 0.04939946153426371, 0.04475617011067756, 0.4930917531213842, 0.15516332173817032, 0.2575736936917092, 0.8533046046891458, 0.1455171425629982, 0.9937345511597171], \"Term\": [\"accord\", \"accord\", \"account\", \"account\", \"account\", \"acquire\", \"acquired\", \"acquired\", \"acquisition\", \"acquisition\", \"acre\", \"acre\", \"acreage\", \"agreement\", \"agreement\", \"agreement\", \"agreement\", \"agricultural\", \"agricultural\", \"agriculture\", \"airline\", \"alcan\", \"also\", \"also\", \"also\", \"also\", \"also\", \"aluminium\", \"analyst\", \"analyst\", \"analyst\", \"analyst\", \"api\", \"approval\", \"approval\", \"approval\", \"april\", \"april\", \"april\", \"april\", \"april\", \"arab\", \"attack\", \"average\", \"average\", \"average\", \"average\", \"avg\", \"baker\", \"band\", \"bank\", \"bank\", \"bank\", \"bank\", \"barrel\", \"barrel\", \"beef\", \"bid\", \"bid\", \"bid\", \"bid\", \"billion\", \"billion\", \"billion\", \"billion\", \"billion\", \"board\", \"board\", \"board\", \"board\", \"bp\", \"bpd\", \"bpd\", \"buffer\", \"bushel\", \"business\", \"business\", \"business\", \"business\", \"business\", \"buy\", \"buy\", \"buy\", \"buyout\", \"cargo\", \"carryforward\", \"carryforwards\", \"cash\", \"cash\", \"cash\", \"cash\", \"cattle\", \"china\", \"china\", \"chrysler\", \"citicorp\", \"co\", \"co\", \"co\", \"co\", \"cocoa\", \"coffee\", \"coffee\", \"common\", \"common\", \"common\", \"company\", \"company\", \"company\", \"company\", \"company\", \"compare\", \"compared\", \"compared\", \"compared\", \"completes\", \"cooperate\", \"corn\", \"corp\", \"corp\", \"corp\", \"cotton\", \"could\", \"could\", \"could\", \"could\", \"country\", \"country\", \"country\", \"cpc\", \"crop\", \"crude\", \"crude\", \"crude\", \"ct\", \"ct\", \"cubic\", \"currency\", \"currency\", \"currency\", \"cut\", \"cut\", \"cut\", \"cut\", \"cyacq\", \"cyclops\", \"dealer\", \"dealer\", \"debit\", \"dec\", \"dec\", \"december\", \"december\", \"december\", \"december\", \"december\", \"definitive\", \"delegate\", \"department\", \"department\", \"department\", \"department\", \"department\", \"discontinued\", \"distillate\", \"div\", \"dividend\", \"dividend\", \"division\", \"division\", \"division\", \"dixons\", \"dlrs\", \"dlrs\", \"dlrs\", \"dlrs\", \"dlrs\", \"dollar\", \"dollar\", \"drain\", \"ec\", \"ec\", \"economic\", \"economic\", \"economic\", \"economy\", \"economy\", \"ecus\", \"eia\", \"employment\", \"european\", \"european\", \"european\", \"european\", \"exchange\", \"exchange\", \"exchange\", \"exchange\", \"excludes\", \"export\", \"export\", \"export\", \"extinguishment\", \"extraordinary\", \"extraordinary\", \"extraordinary\", \"extraordinary\", \"farm\", \"farm\", \"farmer\", \"feb\", \"feb\", \"feb\", \"february\", \"february\", \"february\", \"february\", \"february\", \"feed\", \"fell\", \"fell\", \"figure\", \"figure\", \"figure\", \"figure\", \"filing\", \"first\", \"first\", \"first\", \"first\", \"first\", \"flat\", \"forecast\", \"forecast\", \"foreign\", \"foreign\", \"foreign\", \"foreign\", \"foster\", \"franc\", \"franc\", \"fundamental\", \"gain\", \"gain\", \"gain\", \"gain\", \"gain\", \"gasoline\", \"gatt\", \"gdp\", \"gencorp\", \"gnp\", \"gold\", \"gold\", \"gold\", \"gold\", \"government\", \"government\", \"government\", \"government\", \"grain\", \"grew\", \"group\", \"group\", \"group\", \"group\", \"group\", \"grower\", \"growth\", \"growth\", \"guarantee\", \"gulf\", \"gulf\", \"gulf\", \"harvest\", \"hernandez\", \"holder\", \"holder\", \"house\", \"house\", \"house\", \"house\", \"housing\", \"icco\", \"ico\", \"import\", \"import\", \"import\", \"inc\", \"inc\", \"includes\", \"includes\", \"includes\", \"includes\", \"increase\", \"increase\", \"increase\", \"increase\", \"index\", \"inra\", \"intent\", \"international\", \"international\", \"international\", \"international\", \"international\", \"iran\", \"iran\", \"iranian\", \"jan\", \"jan\", \"january\", \"january\", \"january\", \"january\", \"january\", \"japan\", \"japan\", \"japan\", \"japanese\", \"japanese\", \"kuwait\", \"kuwaiti\", \"last\", \"last\", \"last\", \"last\", \"lawson\", \"legislation\", \"lifo\", \"loss\", \"loss\", \"loss\", \"loss\", \"ltd\", \"ltd\", \"ltd\", \"ltd\", \"maize\", \"major\", \"major\", \"major\", \"major\", \"management\", \"management\", \"management\", \"management\", \"management\", \"march\", \"march\", \"march\", \"march\", \"march\", \"mark\", \"mark\", \"mark\", \"market\", \"market\", \"market\", \"market\", \"marketable\", \"meeting\", \"meeting\", \"meeting\", \"merge\", \"merger\", \"minister\", \"minister\", \"minister\", \"missile\", \"miti\", \"miyazawa\", \"mln\", \"mln\", \"mln\", \"mln\", \"monetary\", \"monetary\", \"money\", \"money\", \"month\", \"month\", \"month\", \"month\", \"month\", \"mths\", \"nation\", \"nation\", \"nation\", \"net\", \"net\", \"net\", \"new\", \"new\", \"new\", \"new\", \"new\", \"nil\", \"nil\", \"nine\", \"nine\", \"nine\", \"nine\", \"nine\", \"nonrecurring\", \"note\", \"note\", \"note\", \"note\", \"offer\", \"offer\", \"offer\", \"offer\", \"official\", \"official\", \"official\", \"oil\", \"oil\", \"oil\", \"oil\", \"oil\", \"one\", \"one\", \"one\", \"one\", \"one\", \"opec\", \"opec\", \"oper\", \"ounce\", \"outstanding\", \"outstanding\", \"outstanding\", \"outstanding\", \"owned\", \"owned\", \"owned\", \"owns\", \"pact\", \"pact\", \"pact\", \"palm\", \"paris\", \"partnership\", \"pay\", \"pay\", \"pay\", \"pay\", \"pay\", \"payout\", \"pct\", \"pct\", \"pct\", \"pct\", \"pdvsa\", \"per\", \"per\", \"per\", \"per\", \"per\", \"piedmont\", \"plan\", \"plan\", \"plan\", \"plan\", \"plan\", \"policy\", \"policy\", \"policy\", \"port\", \"pretax\", \"pretax\", \"price\", \"price\", \"price\", \"price\", \"prime\", \"prior\", \"prior\", \"prior\", \"prior\", \"prior\", \"production\", \"production\", \"production\", \"production\", \"profit\", \"profit\", \"profit\", \"program\", \"program\", \"program\", \"program\", \"provisional\", \"push\", \"qtly\", \"qtly\", \"qtr\", \"quarter\", \"quarter\", \"quarter\", \"quarterly\", \"quarterly\", \"rain\", \"rate\", \"rate\", \"record\", \"record\", \"record\", \"record\", \"record\", \"refinery\", \"regulatory\", \"remark\", \"reserve\", \"reserve\", \"reserve\", \"reserve\", \"restated\", \"rev\", \"revised\", \"revised\", \"rice\", \"rise\", \"rise\", \"rose\", \"rose\", \"sale\", \"sale\", \"sale\", \"sale\", \"sale\", \"saudi\", \"saudi\", \"saudi\", \"say\", \"say\", \"say\", \"say\", \"season\", \"season\", \"seasonally\", \"security\", \"security\", \"security\", \"security\", \"sell\", \"sell\", \"sell\", \"share\", \"share\", \"share\", \"share\", \"shareholder\", \"ship\", \"ship\", \"shipment\", \"shipment\", \"shr\", \"shrs\", \"smelter\", \"south\", \"south\", \"south\", \"south\", \"south\", \"soviet\", \"soybean\", \"split\", \"split\", \"split\", \"stabilise\", \"stability\", \"stabilize\", \"stake\", \"state\", \"state\", \"state\", \"state\", \"statistic\", \"stg\", \"stg\", \"stimulate\", \"stock\", \"stock\", \"stock\", \"stock\", \"stock\", \"strike\", \"strike\", \"strike\", \"subsidiary\", \"subsidiary\", \"subsidy\", \"sugar\", \"sumita\", \"surplus\", \"surplus\", \"surplus\", \"takeover\", \"tariff\", \"tariff\", \"think\", \"think\", \"tin\", \"tokyo\", \"tokyo\", \"told\", \"told\", \"told\", \"told\", \"tonne\", \"trade\", \"trade\", \"trade\", \"twa\", \"unadjusted\", \"undisclosed\", \"unemployment\", \"union\", \"union\", \"union\", \"union\", \"union\", \"unit\", \"unit\", \"unit\", \"unit\", \"usair\", \"usda\", \"v\", \"venture\", \"volcker\", \"warrant\", \"week\", \"week\", \"week\", \"week\", \"wheat\", \"white\", \"would\", \"would\", \"would\", \"would\", \"writedown\", \"writedowns\", \"writedowns\", \"year\", \"year\", \"year\", \"year\", \"year\", \"yen\", \"yen\", \"yr\"]}, \"R\": 30, \"lambda.step\": 0.01, \"plot.opts\": {\"xlab\": \"PC1\", \"ylab\": \"PC2\"}, \"topic.order\": [4, 3, 5, 2, 1]};\n",
              "\n",
              "function LDAvis_load_lib(url, callback){\n",
              "  var s = document.createElement('script');\n",
              "  s.src = url;\n",
              "  s.async = true;\n",
              "  s.onreadystatechange = s.onload = callback;\n",
              "  s.onerror = function(){console.warn(\"failed to load library \" + url);};\n",
              "  document.getElementsByTagName(\"head\")[0].appendChild(s);\n",
              "}\n",
              "\n",
              "if(typeof(LDAvis) !== \"undefined\"){\n",
              "   // already loaded: just create the visualization\n",
              "   !function(LDAvis){\n",
              "       new LDAvis(\"#\" + \"ldavis_el3541386476425017761854196956\", ldavis_el3541386476425017761854196956_data);\n",
              "   }(LDAvis);\n",
              "}else if(typeof define === \"function\" && define.amd){\n",
              "   // require.js is available: use it to load d3/LDAvis\n",
              "   require.config({paths: {d3: \"https://d3js.org/d3.v5\"}});\n",
              "   require([\"d3\"], function(d3){\n",
              "      window.d3 = d3;\n",
              "      LDAvis_load_lib(\"https://cdn.jsdelivr.net/gh/bmabey/pyLDAvis@3.4.0/pyLDAvis/js/ldavis.v3.0.0.js\", function(){\n",
              "        new LDAvis(\"#\" + \"ldavis_el3541386476425017761854196956\", ldavis_el3541386476425017761854196956_data);\n",
              "      });\n",
              "    });\n",
              "}else{\n",
              "    // require.js not available: dynamically load d3 & LDAvis\n",
              "    LDAvis_load_lib(\"https://d3js.org/d3.v5.js\", function(){\n",
              "         LDAvis_load_lib(\"https://cdn.jsdelivr.net/gh/bmabey/pyLDAvis@3.4.0/pyLDAvis/js/ldavis.v3.0.0.js\", function(){\n",
              "                 new LDAvis(\"#\" + \"ldavis_el3541386476425017761854196956\", ldavis_el3541386476425017761854196956_data);\n",
              "            })\n",
              "         });\n",
              "}\n",
              "</script>"
            ]
          },
          "metadata": {},
          "execution_count": 4
        }
      ]
    },
    {
      "cell_type": "markdown",
      "source": [
        "## Exemplo 02 - Implementação do LDA com um corpus de texto\n",
        "\n",
        "### Explicação do código\n",
        "\n",
        "Este código utiliza as bibliotecas `nltk`, `gensim` e `pyLDAvis` para realizar análise de tópicos em um corpus.\n",
        "\n",
        "1. A biblioteca `nltk` é usada para dividir os documentos em tokens depois de converter o texto para letras minúsculas.\n",
        "\n",
        "2. O `gensim.corpora.Dictionary` mapeia cada palavra única no corpus para um ID numérico.\n",
        "\n",
        "3. A BoW representa os documentos como vetores de frequência de palavras. Ex: `[(0, 1), (1, 1)]` quer dizer que as palavras com IDs `0` e `1` aparecem uma vez no documento.\n",
        "\n",
        "4. O modelo LDA encontra tópicos ocultos no corpus.\n",
        "  - `num_topics=3`: Define 3 tópicos para análise.\n",
        "  - `passes=10`: Número de iterações sobre o corpus.\n",
        "  - `iterations=100`: Refinamento interno do modelo.\n",
        "\n",
        "5. Os tópicos exibidos são listas de palavras mais representativas com seus pesos.\n",
        "\n",
        "6. O `pyLDAvis` transforma o modelo LDA em uma visualização interativa para exploração. A função `pyLDAvis.display` mostra o gráfico de forma interativa na tela.\n"
      ],
      "metadata": {
        "id": "sXyM5WWO1jcl"
      }
    },
    {
      "cell_type": "code",
      "source": [
        "# 01 - Preparação do corpus\n",
        "import nltk\n",
        "from nltk.tokenize import word_tokenize\n",
        "from gensim.corpora import Dictionary\n",
        "\n",
        "nltk.download('punkt_tab')\n",
        "\n",
        "documents = [\n",
        "    \"Eu gosto de aprender sobre inteligência artificial e ciência de dados\",\n",
        "    \"A análise de dados é muito importante em projetos de aprendizado de máquina\",\n",
        "    \"Redes neurais são úteis para processamento de linguagem natural\",\n",
        "    \"A modelagem de tópicos ajuda a descobrir temas em textos grandes\",\n",
        "    \"Python é uma ferramenta poderosa para trabalhar com PLN\"\n",
        "]\n",
        "\n",
        "# Pré-processamento: tokenização\n",
        "tokenized_docs = [word_tokenize(doc.lower()) for doc in documents]\n",
        "\n",
        "# 02 - Criação do dicionário e BoW\n",
        "dictionary = Dictionary(tokenized_docs)\n",
        "\n",
        "# Criação de BoW para cada documento\n",
        "corpus_bow = [dictionary.doc2bow(doc) for doc in tokenized_docs]\n",
        "\n",
        "# Exibir o dicionário e o corpus BoW\n",
        "print(\"Dicionário: \", dictionary.token2id)\n",
        "print(\"Corpus BoW: \", corpus_bow)\n",
        "\n",
        "# 03 - Treinamento do Modelo LDA\n",
        "from gensim.models import LdaModel\n",
        "\n",
        "# Treinar o modelo LDA\n",
        "lda_model = LdaModel(\n",
        "    corpus=corpus_bow,\n",
        "    id2word=dictionary,\n",
        "    num_topics=3,\n",
        "    random_state=42,\n",
        "    passes=10,\n",
        "    iterations=100\n",
        ")\n",
        "\n",
        "# Exibir os tópicos gerados\n",
        "for idx, topic in lda_model.print_topics(num_words=5):\n",
        "  print(f\"Tópico {idx}: {topic}\")\n",
        "\n",
        "# 04 - Visualização com pyLDAvis\n",
        "import pyLDAvis\n",
        "from pyLDAvis import gensim_models as gensimvis\n",
        "\n",
        "# Preparar os dados para visualização\n",
        "lda_vis = gensimvis.prepare(lda_model, corpus_bow, dictionary)\n",
        "\n",
        "# Exibir a visualização no notebook\n",
        "pyLDAvis.enable_notebook()\n",
        "pyLDAvis.display(lda_vis)"
      ],
      "metadata": {
        "colab": {
          "base_uri": "https://localhost:8080/",
          "height": 1000
        },
        "id": "0tVhCVvru_4u",
        "outputId": "395b51e4-a4d3-4308-9ef5-19708b9d59e4"
      },
      "execution_count": null,
      "outputs": [
        {
          "output_type": "stream",
          "name": "stdout",
          "text": [
            "Dicionário:  {'aprender': 0, 'artificial': 1, 'ciência': 2, 'dados': 3, 'de': 4, 'e': 5, 'eu': 6, 'gosto': 7, 'inteligência': 8, 'sobre': 9, 'a': 10, 'análise': 11, 'aprendizado': 12, 'em': 13, 'importante': 14, 'muito': 15, 'máquina': 16, 'projetos': 17, 'é': 18, 'linguagem': 19, 'natural': 20, 'neurais': 21, 'para': 22, 'processamento': 23, 'redes': 24, 'são': 25, 'úteis': 26, 'ajuda': 27, 'descobrir': 28, 'grandes': 29, 'modelagem': 30, 'temas': 31, 'textos': 32, 'tópicos': 33, 'com': 34, 'ferramenta': 35, 'pln': 36, 'poderosa': 37, 'python': 38, 'trabalhar': 39, 'uma': 40}\n",
            "Corpus BoW:  [[(0, 1), (1, 1), (2, 1), (3, 1), (4, 2), (5, 1), (6, 1), (7, 1), (8, 1), (9, 1)], [(3, 1), (4, 3), (10, 1), (11, 1), (12, 1), (13, 1), (14, 1), (15, 1), (16, 1), (17, 1), (18, 1)], [(4, 1), (19, 1), (20, 1), (21, 1), (22, 1), (23, 1), (24, 1), (25, 1), (26, 1)], [(4, 1), (10, 2), (13, 1), (27, 1), (28, 1), (29, 1), (30, 1), (31, 1), (32, 1), (33, 1)], [(18, 1), (22, 1), (34, 1), (35, 1), (36, 1), (37, 1), (38, 1), (39, 1), (40, 1)]]\n",
            "Tópico 0: 0.059*\"é\" + 0.059*\"para\" + 0.059*\"ferramenta\" + 0.059*\"com\" + 0.059*\"poderosa\"\n",
            "Tópico 1: 0.130*\"de\" + 0.068*\"a\" + 0.048*\"em\" + 0.048*\"dados\" + 0.027*\"análise\"\n",
            "Tópico 2: 0.059*\"para\" + 0.059*\"são\" + 0.059*\"linguagem\" + 0.059*\"úteis\" + 0.059*\"processamento\"\n"
          ]
        },
        {
          "output_type": "stream",
          "name": "stderr",
          "text": [
            "/usr/local/lib/python3.10/dist-packages/ipykernel/ipkernel.py:283: DeprecationWarning: `should_run_async` will not call `transform_cell` automatically in the future. Please pass the result to `transformed_cell` argument and any exception that happen during thetransform in `preprocessing_exc_tuple` in IPython 7.17 and above.\n",
            "  and should_run_async(code)\n",
            "[nltk_data] Downloading package punkt_tab to /root/nltk_data...\n",
            "[nltk_data]   Package punkt_tab is already up-to-date!\n"
          ]
        },
        {
          "output_type": "execute_result",
          "data": {
            "text/plain": [
              "<IPython.core.display.HTML object>"
            ],
            "text/html": [
              "\n",
              "<link rel=\"stylesheet\" type=\"text/css\" href=\"https://cdn.jsdelivr.net/gh/bmabey/pyLDAvis@3.4.0/pyLDAvis/js/ldavis.v1.0.0.css\">\n",
              "\n",
              "\n",
              "<div id=\"ldavis_el3541386476321748165261865022\" style=\"background-color:white;\"></div>\n",
              "<script type=\"text/javascript\">\n",
              "\n",
              "var ldavis_el3541386476321748165261865022_data = {\"mdsDat\": {\"x\": [-0.09683206254385777, 0.06771259615438217, 0.029119466389475653], \"y\": [-0.014117411652062603, -0.04607321543989977, 0.06019062709196235], \"topics\": [1, 2, 3], \"cluster\": [1, 1, 1], \"Freq\": [63.667971535855315, 18.180139842363673, 18.15188862178101]}, \"tinfo\": {\"Term\": [\"para\", \"s\\u00e3o\", \"linguagem\", \"\\u00fateis\", \"processamento\", \"neurais\", \"redes\", \"natural\", \"ferramenta\", \"com\", \"poderosa\", \"trabalhar\", \"uma\", \"python\", \"pln\", \"\\u00e9\", \"de\", \"ci\\u00eancia\", \"gosto\", \"e\", \"eu\", \"sobre\", \"intelig\\u00eancia\", \"grandes\", \"artificial\", \"modelagem\", \"aprender\", \"ajuda\", \"textos\", \"temas\", \"a\", \"de\", \"em\", \"dados\", \"an\\u00e1lise\", \"m\\u00e1quina\", \"importante\", \"projetos\", \"aprendizado\", \"muito\", \"descobrir\", \"t\\u00f3picos\", \"temas\", \"textos\", \"ajuda\", \"aprender\", \"modelagem\", \"artificial\", \"grandes\", \"sobre\", \"intelig\\u00eancia\", \"eu\", \"e\", \"gosto\", \"ci\\u00eancia\", \"\\u00e9\", \"neurais\", \"processamento\", \"redes\", \"natural\", \"para\", \"com\", \"ferramenta\", \"poderosa\", \"trabalhar\", \"uma\", \"python\", \"pln\", \"para\", \"\\u00e9\", \"natural\", \"redes\", \"processamento\", \"neurais\", \"\\u00fateis\", \"s\\u00e3o\", \"linguagem\", \"gosto\", \"e\", \"ci\\u00eancia\", \"grandes\", \"intelig\\u00eancia\", \"eu\", \"artificial\", \"modelagem\", \"aprender\", \"sobre\", \"ajuda\", \"t\\u00f3picos\", \"textos\", \"temas\", \"de\", \"a\", \"dados\", \"em\", \"descobrir\", \"aprendizado\", \"muito\", \"s\\u00e3o\", \"linguagem\", \"\\u00fateis\", \"processamento\", \"neurais\", \"redes\", \"natural\", \"para\", \"pln\", \"trabalhar\", \"python\", \"uma\", \"poderosa\", \"com\", \"ferramenta\", \"ci\\u00eancia\", \"sobre\", \"gosto\", \"eu\", \"intelig\\u00eancia\", \"e\", \"grandes\", \"artificial\", \"textos\", \"temas\", \"modelagem\", \"aprender\", \"ajuda\", \"t\\u00f3picos\", \"descobrir\", \"de\", \"\\u00e9\", \"a\", \"dados\", \"em\", \"muito\", \"importante\"], \"Freq\": [1.0, 0.0, 0.0, 0.0, 0.0, 0.0, 0.0, 0.0, 0.0, 0.0, 0.0, 0.0, 0.0, 0.0, 0.0, 1.0, 5.0, 1.0, 1.0, 1.0, 1.0, 1.0, 1.0, 1.0, 1.0, 1.0, 1.0, 1.0, 1.0, 1.0, 2.31127377581452, 4.399629071212607, 1.6177386082350635, 1.6177291802634581, 0.9242004237046935, 0.9241985381103723, 0.924196338250331, 0.9241930698868411, 0.9241837676215237, 0.9241767280693916, 0.9241473756511265, 0.9241248113724173, 0.9241232400438164, 0.9241219201277916, 0.924119154589454, 0.9241142520442192, 0.9241131835407705, 0.9241021842405641, 0.924093384800399, 0.9240921277375183, 0.9240921277375183, 0.9240890479334605, 0.9240854024511064, 0.9240762258920769, 0.924074654563476, 0.9204336347825772, 0.2313759209115733, 0.2313681585482848, 0.23136800141542468, 0.2313670114784061, 0.23153860056162617, 0.5661369735831963, 0.5661375479022055, 0.5661273537397896, 0.5661162263089834, 0.5661140367177603, 0.5661131393443082, 0.5661046322439822, 0.5662346078147857, 0.5686945956065217, 0.14175140777120948, 0.14174867975591507, 0.14174246993162648, 0.14174000215463317, 0.14173868301565856, 0.14173591910542607, 0.1417341423059909, 0.14181881846493194, 0.14181826209339163, 0.14181679040093015, 0.14181683526960276, 0.14181375727866202, 0.1418133983292812, 0.1418117381883948, 0.14181031136460592, 0.14181023957472977, 0.1418080858784447, 0.14180843585409103, 0.1418067667394701, 0.14180384130201623, 0.1418036169586532, 0.14212400620225976, 0.14184074129836696, 0.14182128624192522, 0.14181635068793863, 0.14179926469741047, 0.14179595338937218, 0.14179470604027375, 0.5656723440215695, 0.5656675774134536, 0.5656562880784425, 0.5656491560858481, 0.5656468982188458, 0.565643063428858, 0.565640913079332, 0.5658169908663478, 0.14163442012749186, 0.14162910697220485, 0.14162409844976734, 0.14162232441140843, 0.1416208818852681, 0.14161645574916054, 0.14161350797835207, 0.14171241509675572, 0.14171041706365453, 0.1417094314867885, 0.1417069854642027, 0.14170478135593864, 0.14170443192414067, 0.14170098240510948, 0.14170059713415273, 0.14169648459068437, 0.14169589324456475, 0.14169533773760387, 0.14169474639148424, 0.14169356369924496, 0.14169180758046546, 0.14168550884831238, 0.5612985330858029, 0.1418287579658989, 0.1417253888722289, 0.14169291859438718, 0.14169213909268402, 0.1416720870833546, 0.14167027720583694], \"Total\": [1.0, 0.0, 0.0, 0.0, 0.0, 0.0, 0.0, 0.0, 0.0, 0.0, 0.0, 0.0, 0.0, 0.0, 0.0, 1.0, 5.0, 1.0, 1.0, 1.0, 1.0, 1.0, 1.0, 1.0, 1.0, 1.0, 1.0, 1.0, 1.0, 1.0, 2.5948399059851157, 5.10305161050067, 1.9012470980156861, 1.9012433850997705, 1.2076527186547201, 1.2076519549584972, 1.2076511811764328, 1.207649871499524, 1.207646253024642, 1.2076435211930199, 1.2076321491968494, 1.2076233856923528, 1.2076227502470342, 1.2076222460204922, 1.20762115414279, 1.2076192380104331, 1.2076188326429802, 1.2076145195631116, 1.2076112024751113, 1.2076106306796175, 1.207610666372119, 1.2076094317269446, 1.2076080964686386, 1.2076044758437976, 1.2076038600611618, 1.6309569883549977, 0.9387628212850523, 0.9387597845657594, 0.9387597446001977, 0.9387593323289476, 1.36359019924276, 0.9390855416025365, 0.9390870964722395, 0.9390887859298244, 0.9390906918514738, 0.9390963644820147, 0.9390958898043248, 0.9390946245776656, 1.36359019924276, 1.6309569883549977, 0.9387593323289476, 0.9387597446001977, 0.9387597845657594, 0.9387628212850523, 0.9387576142789966, 0.9387492848303426, 0.9387534264572778, 1.2076044758437976, 1.2076080964686386, 1.2076038600611618, 1.2076112024751113, 1.207610666372119, 1.2076094317269446, 1.2076145195631116, 1.2076188326429802, 1.2076192380104331, 1.2076106306796175, 1.20762115414279, 1.2076233856923528, 1.2076222460204922, 1.2076227502470342, 5.10305161050067, 2.5948399059851157, 1.9012433850997705, 1.9012470980156861, 1.2076321491968494, 1.207646253024642, 1.2076435211930199, 0.9387492848303426, 0.9387534264572778, 0.9387576142789966, 0.9387597845657594, 0.9387628212850523, 0.9387597446001977, 0.9387593323289476, 1.36359019924276, 0.9390946245776656, 0.9390906918514738, 0.9390958898043248, 0.9390963644820147, 0.9390887859298244, 0.9390855416025365, 0.9390870964722395, 1.2076038600611618, 1.2076106306796175, 1.2076044758437976, 1.2076094317269446, 1.207610666372119, 1.2076080964686386, 1.2076112024751113, 1.2076145195631116, 1.2076222460204922, 1.2076227502470342, 1.2076188326429802, 1.2076192380104331, 1.20762115414279, 1.2076233856923528, 1.2076321491968494, 5.10305161050067, 1.6309569883549977, 2.5948399059851157, 1.9012433850997705, 1.9012470980156861, 1.2076435211930199, 1.2076511811764328], \"Category\": [\"Default\", \"Default\", \"Default\", \"Default\", \"Default\", \"Default\", \"Default\", \"Default\", \"Default\", \"Default\", \"Default\", \"Default\", \"Default\", \"Default\", \"Default\", \"Default\", \"Default\", \"Default\", \"Default\", \"Default\", \"Default\", \"Default\", \"Default\", \"Default\", \"Default\", \"Default\", \"Default\", \"Default\", \"Default\", \"Default\", \"Topic1\", \"Topic1\", \"Topic1\", \"Topic1\", \"Topic1\", \"Topic1\", \"Topic1\", \"Topic1\", \"Topic1\", \"Topic1\", \"Topic1\", \"Topic1\", \"Topic1\", \"Topic1\", \"Topic1\", \"Topic1\", \"Topic1\", \"Topic1\", \"Topic1\", \"Topic1\", \"Topic1\", \"Topic1\", \"Topic1\", \"Topic1\", \"Topic1\", \"Topic1\", \"Topic1\", \"Topic1\", \"Topic1\", \"Topic1\", \"Topic1\", \"Topic2\", \"Topic2\", \"Topic2\", \"Topic2\", \"Topic2\", \"Topic2\", \"Topic2\", \"Topic2\", \"Topic2\", \"Topic2\", \"Topic2\", \"Topic2\", \"Topic2\", \"Topic2\", \"Topic2\", \"Topic2\", \"Topic2\", \"Topic2\", \"Topic2\", \"Topic2\", \"Topic2\", \"Topic2\", \"Topic2\", \"Topic2\", \"Topic2\", \"Topic2\", \"Topic2\", \"Topic2\", \"Topic2\", \"Topic2\", \"Topic2\", \"Topic2\", \"Topic2\", \"Topic2\", \"Topic2\", \"Topic2\", \"Topic2\", \"Topic3\", \"Topic3\", \"Topic3\", \"Topic3\", \"Topic3\", \"Topic3\", \"Topic3\", \"Topic3\", \"Topic3\", \"Topic3\", \"Topic3\", \"Topic3\", \"Topic3\", \"Topic3\", \"Topic3\", \"Topic3\", \"Topic3\", \"Topic3\", \"Topic3\", \"Topic3\", \"Topic3\", \"Topic3\", \"Topic3\", \"Topic3\", \"Topic3\", \"Topic3\", \"Topic3\", \"Topic3\", \"Topic3\", \"Topic3\", \"Topic3\", \"Topic3\", \"Topic3\", \"Topic3\", \"Topic3\", \"Topic3\", \"Topic3\"], \"logprob\": [30.0, 29.0, 28.0, 27.0, 26.0, 25.0, 24.0, 23.0, 22.0, 21.0, 20.0, 19.0, 18.0, 17.0, 16.0, 15.0, 14.0, 13.0, 12.0, 11.0, 10.0, 9.0, 8.0, 7.0, 6.0, 5.0, 4.0, 3.0, 2.0, 1.0, -2.681, -2.0373, -3.0378, -3.0378, -3.5976, -3.5976, -3.5976, -3.5976, -3.5976, -3.5977, -3.5977, -3.5977, -3.5977, -3.5977, -3.5977, -3.5977, -3.5977, -3.5977, -3.5977, -3.5977, -3.5977, -3.5978, -3.5978, -3.5978, -3.5978, -3.6017, -4.9825, -4.9825, -4.9825, -4.9826, -4.9818, -2.8344, -2.8344, -2.8344, -2.8344, -2.8344, -2.8344, -2.8344, -2.8342, -2.8299, -4.2191, -4.2192, -4.2192, -4.2192, -4.2192, -4.2192, -4.2193, -4.2187, -4.2187, -4.2187, -4.2187, -4.2187, -4.2187, -4.2187, -4.2187, -4.2187, -4.2187, -4.2187, -4.2187, -4.2188, -4.2188, -4.2165, -4.2185, -4.2186, -4.2187, -4.2188, -4.2188, -4.2188, -2.8336, -2.8336, -2.8337, -2.8337, -2.8337, -2.8337, -2.8337, -2.8334, -4.2184, -4.2184, -4.2185, -4.2185, -4.2185, -4.2185, -4.2186, -4.2179, -4.2179, -4.2179, -4.2179, -4.2179, -4.2179, -4.2179, -4.2179, -4.218, -4.218, -4.218, -4.218, -4.218, -4.218, -4.218, -2.8414, -4.217, -4.2178, -4.218, -4.218, -4.2181, -4.2181], \"loglift\": [30.0, 29.0, 28.0, 27.0, 26.0, 25.0, 24.0, 23.0, 22.0, 21.0, 20.0, 19.0, 18.0, 17.0, 16.0, 15.0, 14.0, 13.0, 12.0, 11.0, 10.0, 9.0, 8.0, 7.0, 6.0, 5.0, 4.0, 3.0, 2.0, 1.0, 0.3358, 0.3032, 0.29, 0.29, 0.184, 0.184, 0.184, 0.184, 0.184, 0.184, 0.1839, 0.1839, 0.1839, 0.1839, 0.1839, 0.1839, 0.1839, 0.1839, 0.1839, 0.1839, 0.1839, 0.1839, 0.1839, 0.1839, 0.1839, -0.1206, -0.949, -0.9491, -0.9491, -0.9491, -1.3216, 1.1988, 1.1988, 1.1987, 1.1987, 1.1987, 1.1987, 1.1987, 0.826, 0.6513, -0.1856, -0.1857, -0.1857, -0.1857, -0.1857, -0.1857, -0.1858, -0.437, -0.437, -0.437, -0.437, -0.437, -0.437, -0.4371, -0.4371, -0.4371, -0.4371, -0.4371, -0.4371, -0.4371, -0.4371, -1.8761, -1.2017, -0.8909, -0.8909, -0.4372, -0.4372, -0.4372, 1.1999, 1.1998, 1.1998, 1.1998, 1.1998, 1.1998, 1.1998, 0.8268, -0.1853, -0.1853, -0.1853, -0.1854, -0.1854, -0.1854, -0.1854, -0.4362, -0.4362, -0.4362, -0.4362, -0.4363, -0.4363, -0.4363, -0.4363, -0.4363, -0.4363, -0.4363, -0.4363, -0.4363, -0.4364, -0.4364, -0.5009, -0.7359, -1.201, -0.8902, -0.8902, -0.4365, -0.4365]}, \"token.table\": {\"Topic\": [1, 1, 1, 1, 1, 1, 1, 2, 1, 1, 3, 1, 1, 1, 1, 2, 1, 1, 1, 1, 3, 1, 1, 1, 3, 3, 2, 3, 2, 2, 3, 1, 2, 3, 1, 3, 1, 1, 2, 1, 2, 1, 2, 3], \"Freq\": [0.7707604601682398, 0.8280742653186078, 0.8280526218778876, 0.8280755792260412, 0.8280570551975994, 0.8280788147212556, 0.8280861241610744, 1.0648657185090016, 1.0519431734380746, 0.783844708089784, 0.195961177022446, 0.8280667260018395, 0.8280832191538472, 1.0519411191145966, 0.8280823035391068, 1.0648639553845272, 0.8280857019027387, 0.8280810893029206, 0.8280536760837268, 0.8280814569187113, 1.0652424500583269, 0.8280758571903122, 0.8280589283600092, 0.828053145522682, 1.065235748462944, 1.0652317894642669, 0.7333581603588294, 0.7333581603588294, 1.0648554190688986, 1.0648620396524757, 1.06523523529778, 0.8280545740946523, 1.0648539844087332, 1.065235280647748, 0.8280814813937348, 1.0652471497549285, 0.828073170860219, 0.8280735166111133, 1.0648598784729086, 0.8280727351323041, 1.0648534461653234, 0.6131369540337245, 0.6131369540337245, 1.0652376979845217], \"Term\": [\"a\", \"ajuda\", \"an\\u00e1lise\", \"aprender\", \"aprendizado\", \"artificial\", \"ci\\u00eancia\", \"com\", \"dados\", \"de\", \"de\", \"descobrir\", \"e\", \"em\", \"eu\", \"ferramenta\", \"gosto\", \"grandes\", \"importante\", \"intelig\\u00eancia\", \"linguagem\", \"modelagem\", \"muito\", \"m\\u00e1quina\", \"natural\", \"neurais\", \"para\", \"para\", \"pln\", \"poderosa\", \"processamento\", \"projetos\", \"python\", \"redes\", \"sobre\", \"s\\u00e3o\", \"temas\", \"textos\", \"trabalhar\", \"t\\u00f3picos\", \"uma\", \"\\u00e9\", \"\\u00e9\", \"\\u00fateis\"]}, \"R\": 30, \"lambda.step\": 0.01, \"plot.opts\": {\"xlab\": \"PC1\", \"ylab\": \"PC2\"}, \"topic.order\": [2, 1, 3]};\n",
              "\n",
              "function LDAvis_load_lib(url, callback){\n",
              "  var s = document.createElement('script');\n",
              "  s.src = url;\n",
              "  s.async = true;\n",
              "  s.onreadystatechange = s.onload = callback;\n",
              "  s.onerror = function(){console.warn(\"failed to load library \" + url);};\n",
              "  document.getElementsByTagName(\"head\")[0].appendChild(s);\n",
              "}\n",
              "\n",
              "if(typeof(LDAvis) !== \"undefined\"){\n",
              "   // already loaded: just create the visualization\n",
              "   !function(LDAvis){\n",
              "       new LDAvis(\"#\" + \"ldavis_el3541386476321748165261865022\", ldavis_el3541386476321748165261865022_data);\n",
              "   }(LDAvis);\n",
              "}else if(typeof define === \"function\" && define.amd){\n",
              "   // require.js is available: use it to load d3/LDAvis\n",
              "   require.config({paths: {d3: \"https://d3js.org/d3.v5\"}});\n",
              "   require([\"d3\"], function(d3){\n",
              "      window.d3 = d3;\n",
              "      LDAvis_load_lib(\"https://cdn.jsdelivr.net/gh/bmabey/pyLDAvis@3.4.0/pyLDAvis/js/ldavis.v3.0.0.js\", function(){\n",
              "        new LDAvis(\"#\" + \"ldavis_el3541386476321748165261865022\", ldavis_el3541386476321748165261865022_data);\n",
              "      });\n",
              "    });\n",
              "}else{\n",
              "    // require.js not available: dynamically load d3 & LDAvis\n",
              "    LDAvis_load_lib(\"https://d3js.org/d3.v5.js\", function(){\n",
              "         LDAvis_load_lib(\"https://cdn.jsdelivr.net/gh/bmabey/pyLDAvis@3.4.0/pyLDAvis/js/ldavis.v3.0.0.js\", function(){\n",
              "                 new LDAvis(\"#\" + \"ldavis_el3541386476321748165261865022\", ldavis_el3541386476321748165261865022_data);\n",
              "            })\n",
              "         });\n",
              "}\n",
              "</script>"
            ]
          },
          "metadata": {},
          "execution_count": 5
        }
      ]
    }
  ]
}