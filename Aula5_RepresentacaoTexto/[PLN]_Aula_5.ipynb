{
  "nbformat": 4,
  "nbformat_minor": 0,
  "metadata": {
    "colab": {
      "provenance": [],
      "authorship_tag": "ABX9TyO9crkIYEfgFuDr9/gkimvx",
      "include_colab_link": true
    },
    "kernelspec": {
      "name": "python3",
      "display_name": "Python 3"
    },
    "language_info": {
      "name": "python"
    }
  },
  "cells": [
    {
      "cell_type": "markdown",
      "metadata": {
        "id": "view-in-github",
        "colab_type": "text"
      },
      "source": [
        "<a href=\"https://colab.research.google.com/github/caroline-dainezi-fatec/fatec_PLN_Codes/blob/main/Aula5_RepresentacaoTexto/%5BPLN%5D_Aula_5.ipynb\" target=\"_parent\"><img src=\"https://colab.research.google.com/assets/colab-badge.svg\" alt=\"Open In Colab\"/></a>"
      ]
    },
    {
      "cell_type": "markdown",
      "source": [
        "# Aula 5 - Representação de texto"
      ],
      "metadata": {
        "id": "sRnuEtPae7AK"
      }
    },
    {
      "cell_type": "markdown",
      "source": [
        "## Exemplo 1 - Implementando BOW\n",
        "Criar uma implementação simples de BoW usando CountVectorizer do scikit-learn."
      ],
      "metadata": {
        "id": "hfvYqvL4ezVc"
      }
    },
    {
      "cell_type": "code",
      "execution_count": 1,
      "metadata": {
        "colab": {
          "base_uri": "https://localhost:8080/"
        },
        "id": "ZeOusTJgdEIf",
        "outputId": "7b479ce7-8a98-4b04-8d6f-e0901ea5146c"
      },
      "outputs": [
        {
          "output_type": "stream",
          "name": "stdout",
          "text": [
            "Matriz BoW:\n",
            "[[0 1 0 1 0]\n",
            " [1 1 1 1 0]\n",
            " [0 0 0 1 1]]\n",
            "Vocabulário: {'gato': 3, 'cachorro': 1, 'brinca': 0, 'com': 2, 'rato': 4}\n"
          ]
        }
      ],
      "source": [
        "# importação das ferramentas a serem utilizadas\n",
        "# CountVectorizer\n",
        "from sklearn.feature_extraction.text import CountVectorizer\n",
        "\n",
        "documentos = [\n",
        "    \"gato e cachorro\",\n",
        "    \"gato brinca com cachorro\",\n",
        "    \"gato e rato\"\n",
        "]\n",
        "\n",
        "vectorizer = CountVectorizer()\n",
        "\n",
        "X = vectorizer.fit_transform(documentos)\n",
        "  # fit >> criar uma lista com cada palavra que existe no texto\n",
        "  # Transform >>> transforma as palavras em um vetor\n",
        "\n",
        "print(\"Matriz BoW:\")\n",
        "print(X.toarray())\n",
        "\n",
        "print(f\"Vocabulário: {vectorizer.vocabulary_}\")"
      ]
    },
    {
      "cell_type": "markdown",
      "source": [
        "## Exemplo 2 - Implementando BOW junto com TF-IDF"
      ],
      "metadata": {
        "id": "sTopAxPylBPM"
      }
    },
    {
      "cell_type": "code",
      "source": [
        "# Importação das ferramentas que serão utilizadas\n",
        "from sklearn.feature_extraction.text import CountVectorizer # BoW\n",
        "from sklearn.feature_extraction.text import TfidfVectorizer # TF-IDF\n",
        "  # Term Frequency - Inverse Documento Frequency\n",
        "\n",
        "documentos = [\n",
        "    \"O cachorro gosta de passear no parque\",\n",
        "    \"O gato dorme no sofá o dia todo\",\n",
        "    \"Cachorros e gatos podem ser bons amigos\"\n",
        "]\n",
        "\n",
        "# Vetorização pelo BoW\n",
        "vectorizer_bow = CountVectorizer()\n",
        "X_bow = vectorizer_bow.fit_transform(documentos)\n",
        "\n",
        "# impressão do vetor e da matriz\n",
        "print(f\"Vocabulário BoW: {vectorizer_bow.vocabulary_}\")\n",
        "print(f\"Matriz BoW:\")\n",
        "print(X_bow.toarray())\n",
        "\n",
        "# Vetorização TF-IDF\n",
        "vectorizer_tfidf = TfidfVectorizer() # Instanciação da Classe\n",
        "X_tfidf = vectorizer_tfidf.fit_transform(documentos) # vetorização\n",
        "  # fit\n",
        "  # transform\n",
        "\n",
        "# impressão dos vetores com frequência ponderada\n",
        "print(f\"\\nVocabulário TF-IDF: {vectorizer_tfidf.vocabulary_}\")\n",
        "print(\"Matriz TF-IDF\")\n",
        "print(X_tfidf.toarray())"
      ],
      "metadata": {
        "colab": {
          "base_uri": "https://localhost:8080/"
        },
        "id": "TezxERxGlD3Z",
        "outputId": "b3dbf7dc-e742-45cb-d44c-d2ac5d70829b"
      },
      "execution_count": 2,
      "outputs": [
        {
          "output_type": "stream",
          "name": "stdout",
          "text": [
            "Vocabulário BoW: {'cachorro': 2, 'gosta': 9, 'de': 4, 'passear': 12, 'no': 10, 'parque': 11, 'gato': 7, 'dorme': 6, 'sofá': 15, 'dia': 5, 'todo': 16, 'cachorros': 3, 'gatos': 8, 'podem': 13, 'ser': 14, 'bons': 1, 'amigos': 0}\n",
            "Matriz BoW:\n",
            "[[0 0 1 0 1 0 0 0 0 1 1 1 1 0 0 0 0]\n",
            " [0 0 0 0 0 1 1 1 0 0 1 0 0 0 0 1 1]\n",
            " [1 1 0 1 0 0 0 0 1 0 0 0 0 1 1 0 0]]\n",
            "\n",
            "Vocabulário TF-IDF: {'cachorro': 2, 'gosta': 9, 'de': 4, 'passear': 12, 'no': 10, 'parque': 11, 'gato': 7, 'dorme': 6, 'sofá': 15, 'dia': 5, 'todo': 16, 'cachorros': 3, 'gatos': 8, 'podem': 13, 'ser': 14, 'bons': 1, 'amigos': 0}\n",
            "Matriz TF-IDF\n",
            "[[0.         0.         0.42339448 0.         0.42339448 0.\n",
            "  0.         0.         0.         0.42339448 0.32200242 0.42339448\n",
            "  0.42339448 0.         0.         0.         0.        ]\n",
            " [0.         0.         0.         0.         0.         0.42339448\n",
            "  0.42339448 0.42339448 0.         0.         0.32200242 0.\n",
            "  0.         0.         0.         0.42339448 0.42339448]\n",
            " [0.40824829 0.40824829 0.         0.40824829 0.         0.\n",
            "  0.         0.         0.40824829 0.         0.         0.\n",
            "  0.         0.40824829 0.40824829 0.         0.        ]]\n"
          ]
        }
      ]
    },
    {
      "cell_type": "markdown",
      "source": [
        "## Exemplo 3 - Aula 4 e 5\n",
        "\n",
        "Construção de um exemplo de pré-processamento e representação de texto:\n",
        "- Limpeza de dados - removendo caracteres indesejados e normalizando o texto.\n",
        "- Tokenização dividindo o texto em palavras individuais.\n",
        "- Remoção de stopwords - eliminando plaavras comuns que não carregam significado semântico importante.\n",
        "- Lematização - reduzindo as palavras à sua forma base.\n",
        "- Representação de Texto - convertendo o texto processado em uma matriz numérica usando o modelo Bag of Words."
      ],
      "metadata": {
        "id": "Rx3E7DKGnY9n"
      }
    },
    {
      "cell_type": "code",
      "source": [
        "import nltk\n",
        "import re\n",
        "from nltk.corpus import stopwords\n",
        "from nltk.tokenize import word_tokenize\n",
        "from nltk.stem import WordNetLemmatizer\n",
        "from sklearn.feature_extraction.text import CountVectorizer\n",
        "\n",
        "nltk.download('punkt')\n",
        "nltk.download('stopwords')\n",
        "nltk.download('wordnet')\n",
        "nltk.download('omw-1.4')\n",
        "\n",
        "documentos = [\n",
        "    \"Os cachorros são animais muito amigáveis e leais!\",\n",
        "    \"Eu gosto de gatos porque eles são independentes e fofos.\",\n",
        "    \"Cachorros e gato spodem ser ótimos animais de estimação.\"\n",
        "]\n",
        "\n",
        "lemmatizer = WordNetLemmatizer()\n",
        "stop_words = set(stopwords.words(\"portuguese\"))\n",
        "\n",
        "def preprocessar_texto(texto):\n",
        "  texto = re.sub(r'[^a-zA-Zá-ÿ\\s]', '', texto)\n",
        "  tokens_tudo = word_tokenize(texto.lower())\n",
        "  tokens = [palavra for palavra in tokens_tudo if palavra not in stop_words]\n",
        "  tokens_lema = [lemmatizer.lemmatize(palavra) for palavra in tokens]\n",
        "  return ' '.join(tokens_lema)\n",
        "\n",
        "documentos_processados = [preprocessar_texto(doc) for doc in documentos]\n",
        "\n",
        "print('documentos Pré-processados:')\n",
        "for i, doc in enumerate(documentos_processados):\n",
        "  print(f\"Documento {i + 1}: {doc}\")\n",
        "\n",
        "vectorizer = CountVectorizer()\n",
        "X_bow = vectorizer.fit_transform(documentos_processados)\n",
        "\n",
        "print(\"\\nVocabulário BoW:\", vectorizer.vocabulary_)\n",
        "print(\"Matriz BoW:\")\n",
        "print(X_bow.toarray())"
      ],
      "metadata": {
        "colab": {
          "base_uri": "https://localhost:8080/"
        },
        "id": "5QFEUkbmnthU",
        "outputId": "6e2a726e-5211-4486-888b-35ca299a1b3b"
      },
      "execution_count": 3,
      "outputs": [
        {
          "output_type": "stream",
          "name": "stderr",
          "text": [
            "[nltk_data] Downloading package punkt to /root/nltk_data...\n",
            "[nltk_data]   Unzipping tokenizers/punkt.zip.\n",
            "[nltk_data] Downloading package stopwords to /root/nltk_data...\n",
            "[nltk_data]   Unzipping corpora/stopwords.zip.\n",
            "[nltk_data] Downloading package wordnet to /root/nltk_data...\n",
            "[nltk_data] Downloading package omw-1.4 to /root/nltk_data...\n"
          ]
        },
        {
          "output_type": "stream",
          "name": "stdout",
          "text": [
            "documentos Pré-processados:\n",
            "Documento 1: cachorros animais amigáveis leais\n",
            "Documento 2: gosto gatos porque independentes fofos\n",
            "Documento 3: cachorros gato spodem ótimos animais estimação\n",
            "\n",
            "Vocabulário BoW: {'cachorros': 2, 'animais': 1, 'amigáveis': 0, 'leais': 9, 'gosto': 7, 'gatos': 6, 'porque': 10, 'independentes': 8, 'fofos': 4, 'gato': 5, 'spodem': 11, 'ótimos': 12, 'estimação': 3}\n",
            "Matriz BoW:\n",
            "[[1 1 1 0 0 0 0 0 0 1 0 0 0]\n",
            " [0 0 0 0 1 0 1 1 1 0 1 0 0]\n",
            " [0 1 1 1 0 1 0 0 0 0 0 1 1]]\n"
          ]
        }
      ]
    }
  ]
}