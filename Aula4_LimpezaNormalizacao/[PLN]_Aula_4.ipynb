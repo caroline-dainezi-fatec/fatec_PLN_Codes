{
  "nbformat": 4,
  "nbformat_minor": 0,
  "metadata": {
    "colab": {
      "provenance": [],
      "authorship_tag": "ABX9TyNT+OLAF+7yR3Ejz+FIsuch",
      "include_colab_link": true
    },
    "kernelspec": {
      "name": "python3",
      "display_name": "Python 3"
    },
    "language_info": {
      "name": "python"
    }
  },
  "cells": [
    {
      "cell_type": "markdown",
      "metadata": {
        "id": "view-in-github",
        "colab_type": "text"
      },
      "source": [
        "<a href=\"https://colab.research.google.com/github/caroline-dainezi-fatec/fatec_PLN_Codes/blob/main/Aula4_LimpezaNormalizacao/%5BPLN%5D_Aula_4.ipynb\" target=\"_parent\"><img src=\"https://colab.research.google.com/assets/colab-badge.svg\" alt=\"Open In Colab\"/></a>"
      ]
    },
    {
      "cell_type": "markdown",
      "source": [
        "# Aula 4 - Limpeza de dados textuais"
      ],
      "metadata": {
        "id": "KQTWVaAK-4w7"
      }
    },
    {
      "cell_type": "markdown",
      "source": [
        "## 4.1 Normalização de texto e Remoção de Ruído\n",
        "\n",
        "* Remover caracteres especiais, pontuações, e normalizar o uso de letras maiúsculas e minúsculas"
      ],
      "metadata": {
        "id": "HDyAHUIB_DAC"
      }
    },
    {
      "cell_type": "code",
      "execution_count": 1,
      "metadata": {
        "colab": {
          "base_uri": "https://localhost:8080/"
        },
        "id": "_qI1cnDd9VRU",
        "outputId": "daa166e9-9ff1-4a85-98ef-9a8db98d2e41"
      },
      "outputs": [
        {
          "output_type": "stream",
          "name": "stdout",
          "text": [
            "Texto original: Olá!!! Este é um exemplo de texto, com várias PONTUAÇÕES, símbolos #especiais, e LETRAS maiúsculas.\n",
            "\n",
            "Texto limpo: Olá Este é um exemplo de texto com várias PONTUAÇÕES símbolos especiais e LETRAS maiúsculas\n",
            "\n",
            "Texto normalizado: olá este é um exemplo de texto com várias pontuações símbolos especiais e letras maiúsculas\n"
          ]
        }
      ],
      "source": [
        "# importar a biblioteca que traz as funcionalidades para expressões regulares\n",
        "import re\n",
        "\n",
        "original = \"Olá!!! Este é um exemplo de texto, com várias PONTUAÇÕES, símbolos #especiais, e LETRAS maiúsculas.\"\n",
        "\n",
        "texto_limpo = re.sub(r'[^A-Za-zÀ-ÿ\\s]', '', original)\n",
        "  # realiza a substituição dos caracteres especiais\n",
        "  # re.sub(param1, param2, param3) >>> realizar a busca e a substituição\n",
        "    # param1: r'[^A-Za-zÀ-ÿ\\s]': é o trecho que irá ser buscado para substituir\n",
        "      # A-Za-zÀ-ÿ\\s: os intervalos de texto que serão procurados\n",
        "          # A-Z: busca o intervalo de letras de A até Z\n",
        "          # a-z: busca o intervalo de letras de a até z\n",
        "          # À-ÿ: buscar qualquer letra acentuada\n",
        "          # \\s: ignora os espaços no texto\n",
        "      # ^: representa a negação dos valores\n",
        "      # [^A-Za-zÀ-ÿ\\s]: busca todos os valores que não são letras (com ou sem acento)\n",
        "      # param2: '' >>> o termo que eu vou substitur, no caso uma string vazia\n",
        "      # param3: variável que contém o meu texto\n",
        "  # r: o que é o termo r? Pesquisem na documentação\n",
        "\n",
        "texto_normalizado = texto_limpo.lower()\n",
        "  # olá != OLÁ != Olá\n",
        "\n",
        "print(f'Texto original: {original}')\n",
        "print(f'\\nTexto limpo: {texto_limpo}')\n",
        "print(f'\\nTexto normalizado: {texto_normalizado}')"
      ]
    },
    {
      "cell_type": "markdown",
      "source": [
        "## 4.2 Tonekização\n",
        "* Tokenização é dividir o texto em unidades menores (tokens), que geralmente são palavras ou pontuações."
      ],
      "metadata": {
        "id": "OAbemR-xFf5p"
      }
    },
    {
      "cell_type": "code",
      "source": [
        "import nltk\n",
        "from nltk.tokenize import word_tokenize\n",
        "nltk.download('punkt')\n",
        "\n",
        "tokens = word_tokenize(texto_normalizado)\n",
        "\n",
        "print(tokens)"
      ],
      "metadata": {
        "colab": {
          "base_uri": "https://localhost:8080/"
        },
        "id": "6L3NtiCaFrGm",
        "outputId": "824e5d6d-2de0-4b61-e16c-1c40e372b4d0"
      },
      "execution_count": 2,
      "outputs": [
        {
          "output_type": "stream",
          "name": "stderr",
          "text": [
            "[nltk_data] Downloading package punkt to /root/nltk_data...\n",
            "[nltk_data]   Unzipping tokenizers/punkt.zip.\n"
          ]
        },
        {
          "output_type": "stream",
          "name": "stdout",
          "text": [
            "['olá', 'este', 'é', 'um', 'exemplo', 'de', 'texto', 'com', 'várias', 'pontuações', 'símbolos', 'especiais', 'e', 'letras', 'maiúsculas']\n"
          ]
        }
      ]
    },
    {
      "cell_type": "markdown",
      "source": [
        "## 4.3 Remoção de Stopwords\n",
        "* Stopwords são palavras de pouco valor semântico (como \"de\", \"a\", \"o\") que podem ser removidas para simplificar o texto."
      ],
      "metadata": {
        "id": "4hebBSKtGs0b"
      }
    },
    {
      "cell_type": "code",
      "source": [
        "from nltk.corpus import stopwords\n",
        "\n",
        "nltk.download('stopwords')\n",
        "\n",
        "stopwords_pt = set(stopwords.words('portuguese'))\n",
        "\n",
        "tokens_sem_stopwords = [palavra for palavra in tokens if palavra.lower() not in stopwords_pt]\n",
        "\n",
        "print(tokens_sem_stopwords)"
      ],
      "metadata": {
        "colab": {
          "base_uri": "https://localhost:8080/"
        },
        "id": "kNePaSRzRFIo",
        "outputId": "46cff28a-864c-468f-c338-da118c72d2e6"
      },
      "execution_count": 3,
      "outputs": [
        {
          "output_type": "stream",
          "name": "stdout",
          "text": [
            "['olá', 'exemplo', 'texto', 'várias', 'pontuações', 'símbolos', 'especiais', 'letras', 'maiúsculas']\n"
          ]
        },
        {
          "output_type": "stream",
          "name": "stderr",
          "text": [
            "[nltk_data] Downloading package stopwords to /root/nltk_data...\n",
            "[nltk_data]   Unzipping corpora/stopwords.zip.\n"
          ]
        }
      ]
    },
    {
      "cell_type": "markdown",
      "source": [
        "## 4.4 Stemming e Lematização\n",
        "* Stemming reduz as palavras às suas raízes (ou radicais);\n",
        "* Lematização normaliza as palavras para suas formas base, levando em conta contexto e gramática."
      ],
      "metadata": {
        "id": "EW3XmLPcTA3A"
      }
    },
    {
      "cell_type": "code",
      "source": [
        "from nltk.stem import RSLPStemmer\n",
        "\n",
        "nltk.download('rslp')\n",
        "\n",
        "stemmer = RSLPStemmer()\n",
        "stemming = [stemmer.stem(palavra) for palavra in tokens_sem_stopwords]\n",
        "print(stemming)"
      ],
      "metadata": {
        "colab": {
          "base_uri": "https://localhost:8080/"
        },
        "id": "ZO8KPzb6UBeS",
        "outputId": "812e7659-be34-4c43-b84e-31629e305e7e"
      },
      "execution_count": 4,
      "outputs": [
        {
          "output_type": "stream",
          "name": "stderr",
          "text": [
            "[nltk_data] Downloading package rslp to /root/nltk_data...\n",
            "[nltk_data]   Unzipping stemmers/rslp.zip.\n"
          ]
        },
        {
          "output_type": "stream",
          "name": "stdout",
          "text": [
            "['olá', 'exempl', 'text', 'vár', 'pontu', 'símbol', 'espec', 'letr', 'maiúscul']\n"
          ]
        }
      ]
    },
    {
      "cell_type": "markdown",
      "source": [
        "## 4.5 - Utilizando todo o processo de hoje"
      ],
      "metadata": {
        "id": "dOqsPXdzWxut"
      }
    },
    {
      "cell_type": "code",
      "source": [
        "\n",
        "import nltk\n",
        "from nltk.corpus import stopwords\n",
        "from nltk.stem import PorterStemmer\n",
        "import re\n",
        "\n",
        "# Download dos recursos do NLTK (se necessário)\n",
        "nltk.download('punkt')\n",
        "nltk.download('stopwords')\n",
        "\n",
        "# Texto de exemplo\n",
        "# texto = input(\"Insira um texto que seja coerente, podendo ter símbolos: \")\n",
        "texto = \"Este é um exemplo de texto com muitas palavras, algumas repetidas outra @não, e pontuação e outros simbolos que não FAzem parte do texto que desejo . Vamos limpar e organizar esse texto. Há também números 123 e caracteres especiais @#$%.\"\n",
        "print(texto)\n",
        "\n",
        "# Limpeza de ruídos e normalização\n",
        "texto_limpo = re.sub(r'[^a-zA-Z]', ' ', texto) # Remove tudo que não for letra e substitui por espaço\n",
        "texto_lower = texto_limpo.lower() # Converte para minúsculas\n",
        "print(texto_limpo)\n",
        "print(texto_lower)\n",
        "\n",
        "# Tokenização\n",
        "tokens = nltk.word_tokenize(texto_lower)\n",
        "print(tokens)\n",
        "\n",
        "# Remoção de stopwords\n",
        "stop_words = set(stopwords.words('portuguese'))\n",
        "palavras_filtradas = [palavra for palavra in tokens if palavra not in stop_words]\n",
        "print(palavras_filtradas)\n",
        "\n",
        "# Stemming\n",
        "stemmer = PorterStemmer()\n",
        "palavras_stemizadas = [stemmer.stem(palavra) for palavra in palavras_filtradas]\n",
        "\n",
        "# Impressão do resultado final\n",
        "print(palavras_stemizadas)"
      ],
      "metadata": {
        "colab": {
          "base_uri": "https://localhost:8080/"
        },
        "id": "5zmH1P4UW0Jb",
        "outputId": "6c3bd23c-e138-4efb-dc99-4be4b737f322"
      },
      "execution_count": 6,
      "outputs": [
        {
          "output_type": "stream",
          "name": "stdout",
          "text": [
            "Este é um exemplo de texto com muitas palavras, algumas repetidas outra @não, e pontuação e outros simbolos que não FAzem parte do texto que desejo . Vamos limpar e organizar esse texto. Há também números 123 e caracteres especiais @#$%.\n",
            "Este   um exemplo de texto com muitas palavras  algumas repetidas outra  n o  e pontua  o e outros simbolos que n o FAzem parte do texto que desejo   Vamos limpar e organizar esse texto  H  tamb m n meros     e caracteres especiais      \n",
            "este   um exemplo de texto com muitas palavras  algumas repetidas outra  n o  e pontua  o e outros simbolos que n o fazem parte do texto que desejo   vamos limpar e organizar esse texto  h  tamb m n meros     e caracteres especiais      \n",
            "['este', 'um', 'exemplo', 'de', 'texto', 'com', 'muitas', 'palavras', 'algumas', 'repetidas', 'outra', 'n', 'o', 'e', 'pontua', 'o', 'e', 'outros', 'simbolos', 'que', 'n', 'o', 'fazem', 'parte', 'do', 'texto', 'que', 'desejo', 'vamos', 'limpar', 'e', 'organizar', 'esse', 'texto', 'h', 'tamb', 'm', 'n', 'meros', 'e', 'caracteres', 'especiais']\n",
            "['exemplo', 'texto', 'muitas', 'palavras', 'algumas', 'repetidas', 'outra', 'n', 'pontua', 'outros', 'simbolos', 'n', 'fazem', 'parte', 'texto', 'desejo', 'vamos', 'limpar', 'organizar', 'texto', 'h', 'tamb', 'm', 'n', 'meros', 'caracteres', 'especiais']\n",
            "['exemplo', 'texto', 'muita', 'palavra', 'alguma', 'repetida', 'outra', 'n', 'pontua', 'outro', 'simbolo', 'n', 'fazem', 'part', 'texto', 'desejo', 'vamo', 'limpar', 'organizar', 'texto', 'h', 'tamb', 'm', 'n', 'mero', 'caracter', 'especiai']\n"
          ]
        },
        {
          "output_type": "stream",
          "name": "stderr",
          "text": [
            "[nltk_data] Downloading package punkt to /root/nltk_data...\n",
            "[nltk_data]   Package punkt is already up-to-date!\n",
            "[nltk_data] Downloading package stopwords to /root/nltk_data...\n",
            "[nltk_data]   Package stopwords is already up-to-date!\n"
          ]
        }
      ]
    }
  ]
}