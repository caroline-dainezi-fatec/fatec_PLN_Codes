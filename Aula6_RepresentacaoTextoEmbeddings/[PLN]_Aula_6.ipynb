{
  "nbformat": 4,
  "nbformat_minor": 0,
  "metadata": {
    "colab": {
      "provenance": [],
      "mount_file_id": "1KyWC_S9BtmNKmadlwadzBqOEYK06WJWb",
      "authorship_tag": "ABX9TyNp5sR6CIXuW8cIM5jeuHKG",
      "include_colab_link": true
    },
    "kernelspec": {
      "name": "python3",
      "display_name": "Python 3"
    },
    "language_info": {
      "name": "python"
    }
  },
  "cells": [
    {
      "cell_type": "markdown",
      "metadata": {
        "id": "view-in-github",
        "colab_type": "text"
      },
      "source": [
        "<a href=\"https://colab.research.google.com/github/caroline-dainezi-fatec/fatec_PLN_Codes/blob/main/Aula6_RepresentacaoTextoEmbeddings/%5BPLN%5D_Aula_6.ipynb\" target=\"_parent\"><img src=\"https://colab.research.google.com/assets/colab-badge.svg\" alt=\"Open In Colab\"/></a>"
      ]
    },
    {
      "cell_type": "markdown",
      "source": [
        "# Aula 6 - Representação de texto com Embeddings"
      ],
      "metadata": {
        "id": "YSP6TBVACrVg"
      }
    },
    {
      "cell_type": "markdown",
      "source": [
        "## Exemplo 1 Word2Vec"
      ],
      "metadata": {
        "id": "rM_hIsEZCtZq"
      }
    },
    {
      "cell_type": "code",
      "execution_count": 1,
      "metadata": {
        "colab": {
          "base_uri": "https://localhost:8080/"
        },
        "id": "3OZ9X3Nv3cXo",
        "outputId": "072fb5fa-1577-46c2-c917-ce0658353d2e"
      },
      "outputs": [
        {
          "output_type": "stream",
          "name": "stdout",
          "text": [
            "Similaridade entre 'cachorro' e 'gato':  0.13149002\n"
          ]
        }
      ],
      "source": [
        "# importação da ferramenta de vetorização\n",
        "from gensim.models import Word2Vec\n",
        "  # pesquisa biblioteca na documentação\n",
        "\n",
        "# texto a ser analisado\n",
        "corpus = [\n",
        "    [\"o\", \"cachorro\", \"está\", \"latindo\"],\n",
        "    [\"o\", \"gato\", \"está\", \"miando\"]\n",
        "]\n",
        "\n",
        "# realizar o treinamento das palavras\n",
        "model = Word2Vec(sentences=corpus, vector_size=100, window=5, min_count=1, sg=1)\n",
        "  # sentences -- indicar o texto a ser analisado.\n",
        "  # window -- faixa de palavras (antes e depois) que serão analisadas\n",
        "  # min_count=1\n",
        "  # sg - representa o modelo a ser utilizado\n",
        "\n",
        "# vetorização da palavra desejada\n",
        "vector = model.wv['cachorro']\n",
        "# print(vector)\n",
        "\n",
        "# comparação de vetores.\n",
        "similarity = model.wv.similarity('cachorro', 'gato')\n",
        "print(\"Similaridade entre 'cachorro' e 'gato': \", similarity)"
      ]
    },
    {
      "cell_type": "code",
      "source": [
        "from gensim.models import Word2Vec\n",
        "\n",
        "corpus = [\n",
        "    [\"o\", \"cachorro\", \"está\", \"latindo\", \"no\", \"quintal\"],\n",
        "    [\"o\", \"gato\", \"está\", \"miando\", \"no\", \"telhado\"],\n",
        "    [\"o\", \"pássaro\", \"está\", \"voando\", \"no\", \"céu\"],\n",
        "    [\"a\", \"bola\", \"está\", \"rolando\", \"no\", \"chão\"],\n",
        "    [\"a\", \"criança\", \"está\", \"brincando\", \"com\", \"o\", \"cachorro\"],\n",
        "    [\"o\", \"gato\", \"e\", \"o\", \"rato\", \"são\", \"inimigos\"],\n",
        "    [\"a\", \"água\", \"está\", \"quente\", \"na\", \"caneca\"],\n",
        "    [\"o\", \"sol\", \"está\", \"brilhando\", \"no\", \"céu\"],\n",
        "    [\"a\", \"lua\", \"está\", \"cheia\", \"hoje\"],\n",
        "    [\"a\", \"computador\", \"está\", \"ligado\", \"na\", \"mesa\"]\n",
        "]\n",
        "\n",
        "model = Word2Vec(sentences=corpus, vector_size=100, window=5, min_count=1, sg=1)\n",
        "\n",
        "# Calculando a similaridade entre as palavras\n",
        "print(f\"Similaridade entre cachorro e gato: {model.wv.similarity('cachorro', 'gato')}\")\n",
        "print(f\"Similaridade entre cachorro e bola: {model.wv.similarity('cachorro', 'bola')}\")\n",
        "print(f\"Similaridade entre céu e lua: {model.wv.similarity('céu', 'lua')}\")\n",
        "print(f\"Similaridade entre computador e mesa: {model.wv.similarity('computador', 'mesa')}\")"
      ],
      "metadata": {
        "colab": {
          "base_uri": "https://localhost:8080/"
        },
        "id": "mvRKr7-cCwN-",
        "outputId": "730705c7-24e8-4ee1-e1ef-cc2c6b79c9b6"
      },
      "execution_count": 2,
      "outputs": [
        {
          "output_type": "stream",
          "name": "stdout",
          "text": [
            "Similaridade entre cachorro e gato: -0.027537165209650993\n",
            "Similaridade entre cachorro e bola: 0.08071544766426086\n",
            "Similaridade entre céu e lua: 0.16293543577194214\n",
            "Similaridade entre computador e mesa: 0.037479717284440994\n"
          ]
        }
      ]
    },
    {
      "cell_type": "markdown",
      "source": [
        "## Exemplo 2 - GloVe"
      ],
      "metadata": {
        "id": "P81eXKOQCquj"
      }
    },
    {
      "cell_type": "code",
      "source": [
        "from gensim.models import KeyedVectors\n",
        "\n",
        "glove_path = '/content/drive/MyDrive/[Fatec] PLN/glove.6B.100d.txt'\n",
        "\n",
        "# acesso ao modelo treinado (instanciação)\n",
        "glove_model = KeyedVectors.load_word2vec_format(glove_path, binary=False, no_header=True)\n",
        "  # glove_path - caminho do arquivo com o modelo treinado\n",
        "  # binary - arquivo em texto (False)\n",
        "  # no_header = ignorar o cabeçalho\n",
        "\n",
        "# método para acessar a similaridade de duas palavras dentro do modelo treinado\n",
        "similaridade = glove_model.similarity('king', 'queen')\n",
        "print(\"Similaridade entre 'king' e 'queen': \", similaridade)\n",
        "\n",
        "# método de proximidade para uma determinada palavra \"KING\"\n",
        "palavras_proximas = glove_model.most_similar('king')\n",
        "print(f\"Palavras próximas de 'king': {glove_model.most_similar('king')}\")\n",
        "print(f\"Palavras próximas de 'queen': {glove_model.most_similar('queen')}\")"
      ],
      "metadata": {
        "colab": {
          "base_uri": "https://localhost:8080/"
        },
        "id": "y5NljpTfIXpx",
        "outputId": "2b974561-99ed-4714-f122-16b66fed9a71"
      },
      "execution_count": 5,
      "outputs": [
        {
          "output_type": "stream",
          "name": "stdout",
          "text": [
            "Similaridade entre 'king' e 'queen':  0.7507691\n",
            "Palavras próximas de 'king': [('prince', 0.7682328820228577), ('queen', 0.7507690787315369), ('son', 0.7020888328552246), ('brother', 0.6985775232315063), ('monarch', 0.6977890729904175), ('throne', 0.6919989585876465), ('kingdom', 0.6811409592628479), ('father', 0.6802029013633728), ('emperor', 0.6712858080863953), ('ii', 0.6676074266433716)]\n",
            "Palavras próximas de 'queen': [('princess', 0.7947245240211487), ('king', 0.7507690191268921), ('elizabeth', 0.7355712056159973), ('royal', 0.7065026164054871), ('lady', 0.7044796943664551), ('victoria', 0.6853758096694946), ('monarch', 0.6683257818222046), ('crown', 0.6680562496185303), ('prince', 0.6640506386756897), ('consort', 0.6570538282394409)]\n"
          ]
        }
      ]
    },
    {
      "cell_type": "markdown",
      "source": [
        "## Exemplo 3 - FastText"
      ],
      "metadata": {
        "id": "s4aZPVdRsIon"
      }
    },
    {
      "cell_type": "code",
      "source": [
        "# importação das funcionalidades\n",
        "from gensim.models import fasttext\n",
        "from gensim.models import KeyedVectors\n",
        "\n",
        "# caminho do arquivo\n",
        "fasttext_path = '/content/drive/MyDrive/[Fatec] PLN/cc.pt.300.vec'\n",
        "#instanciação do objeto\n",
        "fasttext_model = KeyedVectors.load_word2vec_format(fasttext_path, binary=False)\n",
        "\n",
        "# cálculo de proximidade\n",
        "similaridade = fasttext_model.similarity('gato', 'gatinhos')\n",
        "print(f\"Similaridade entre 'gato' e 'gatinho': {similaridade:.4f}\")\n",
        "\n",
        "# cálculo das palavras mais próximas\n",
        "palavras_proximas = fasttext_model.most_similar('gato')\n",
        "print(\"Palavras mais próximas de 'gato': \")\n",
        "for palavra, score in palavras_proximas:\n",
        "  print(f\"{palavra}: {score:.4f}\")"
      ],
      "metadata": {
        "colab": {
          "base_uri": "https://localhost:8080/"
        },
        "id": "ZZKDy7IMdba2",
        "outputId": "fd8759b9-d21b-4a4d-e611-25164bee486f"
      },
      "execution_count": 7,
      "outputs": [
        {
          "output_type": "stream",
          "name": "stdout",
          "text": [
            "Similaridade entre 'gato' e 'gatinho': 0.5815\n",
            "Palavras mais próximas de 'gato': \n",
            "gatinho: 0.8185\n",
            "cão: 0.7903\n",
            "cachorro: 0.7688\n",
            "gatoO: 0.7448\n",
            "felino: 0.7386\n",
            "cãozinho: 0.7356\n",
            "cachorrinho: 0.7047\n",
            "gato.O: 0.7008\n",
            "gatoe: 0.6934\n",
            "bichinho: 0.6690\n"
          ]
        }
      ]
    }
  ]
}